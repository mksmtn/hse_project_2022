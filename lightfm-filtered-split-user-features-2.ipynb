{
 "cells": [
  {
   "cell_type": "code",
   "execution_count": 1,
   "id": "7a353905-7b34-4897-b92b-f1960ffefac2",
   "metadata": {},
   "outputs": [],
   "source": [
    "import numpy as np\n",
    "from lightfm.data import Dataset\n",
    "from lightfm.evaluation import auc_score, precision_at_k, recall_at_k, reciprocal_rank\n",
    "from lightfm.cross_validation import random_train_test_split\n",
    "from lightfm import LightFM\n",
    "import pandas as pd\n",
    "import dask.dataframe as dd\n",
    "import pickle\n",
    "import csv\n",
    "\n",
    "num_threads = 12\n",
    "test_percentage=0.25\n",
    "epochs=2\n",
    "seed = 42\n",
    "# Remove users that have listened to less than min_tracks_for_user tracks\n",
    "min_tracks_for_user = 200\n",
    "# Remove tracks that have been listened by less than min_listenings_for_track users\n",
    "min_listenings_for_track = 2000\n",
    "base_file_name = 'lightfm-filtered-split-userfeatures2'\n",
    "tracks_path = 'lfm-b2/tracks.tsv'\n",
    "users_path = 'lfm-b2/users.tsv'"
   ]
  },
  {
   "cell_type": "code",
   "execution_count": 2,
   "id": "efc3d162-1089-48ed-ae8a-e079a87607f8",
   "metadata": {},
   "outputs": [
    {
     "data": {
      "text/html": [
       "<div>\n",
       "<style scoped>\n",
       "    .dataframe tbody tr th:only-of-type {\n",
       "        vertical-align: middle;\n",
       "    }\n",
       "\n",
       "    .dataframe tbody tr th {\n",
       "        vertical-align: top;\n",
       "    }\n",
       "\n",
       "    .dataframe thead th {\n",
       "        text-align: right;\n",
       "    }\n",
       "</style>\n",
       "<table border=\"1\" class=\"dataframe\">\n",
       "  <thead>\n",
       "    <tr style=\"text-align: right;\">\n",
       "      <th></th>\n",
       "      <th>user_id</th>\n",
       "      <th>country</th>\n",
       "      <th>age</th>\n",
       "      <th>gender</th>\n",
       "      <th>creation_time</th>\n",
       "    </tr>\n",
       "  </thead>\n",
       "  <tbody>\n",
       "    <tr>\n",
       "      <th>0</th>\n",
       "      <td>0</td>\n",
       "      <td>UK</td>\n",
       "      <td>31</td>\n",
       "      <td>m</td>\n",
       "      <td>2002-12-28 01:00:00</td>\n",
       "    </tr>\n",
       "    <tr>\n",
       "      <th>1</th>\n",
       "      <td>1</td>\n",
       "      <td>US</td>\n",
       "      <td>43</td>\n",
       "      <td>m</td>\n",
       "      <td>2003-04-15 02:00:00</td>\n",
       "    </tr>\n",
       "    <tr>\n",
       "      <th>2</th>\n",
       "      <td>2</td>\n",
       "      <td>UK</td>\n",
       "      <td>35</td>\n",
       "      <td>m</td>\n",
       "      <td>2002-10-29 01:00:00</td>\n",
       "    </tr>\n",
       "    <tr>\n",
       "      <th>3</th>\n",
       "      <td>3</td>\n",
       "      <td>BR</td>\n",
       "      <td>31</td>\n",
       "      <td>m</td>\n",
       "      <td>2003-07-20 02:00:00</td>\n",
       "    </tr>\n",
       "    <tr>\n",
       "      <th>4</th>\n",
       "      <td>4</td>\n",
       "      <td>NaN</td>\n",
       "      <td>51</td>\n",
       "      <td>m</td>\n",
       "      <td>2003-07-21 02:00:00</td>\n",
       "    </tr>\n",
       "    <tr>\n",
       "      <th>...</th>\n",
       "      <td>...</td>\n",
       "      <td>...</td>\n",
       "      <td>...</td>\n",
       "      <td>...</td>\n",
       "      <td>...</td>\n",
       "    </tr>\n",
       "    <tr>\n",
       "      <th>120317</th>\n",
       "      <td>120317</td>\n",
       "      <td>RU</td>\n",
       "      <td>19</td>\n",
       "      <td>m</td>\n",
       "      <td>2012-07-21 18:15:05</td>\n",
       "    </tr>\n",
       "    <tr>\n",
       "      <th>120318</th>\n",
       "      <td>120318</td>\n",
       "      <td>NaN</td>\n",
       "      <td>-1</td>\n",
       "      <td>n</td>\n",
       "      <td>2012-07-23 21:17:42</td>\n",
       "    </tr>\n",
       "    <tr>\n",
       "      <th>120319</th>\n",
       "      <td>120319</td>\n",
       "      <td>BY</td>\n",
       "      <td>19</td>\n",
       "      <td>f</td>\n",
       "      <td>2012-07-19 22:07:27</td>\n",
       "    </tr>\n",
       "    <tr>\n",
       "      <th>120320</th>\n",
       "      <td>120320</td>\n",
       "      <td>NaN</td>\n",
       "      <td>-1</td>\n",
       "      <td>m</td>\n",
       "      <td>2012-07-23 19:25:08</td>\n",
       "    </tr>\n",
       "    <tr>\n",
       "      <th>120321</th>\n",
       "      <td>120321</td>\n",
       "      <td>NaN</td>\n",
       "      <td>16</td>\n",
       "      <td>n</td>\n",
       "      <td>2012-07-25 23:09:06</td>\n",
       "    </tr>\n",
       "  </tbody>\n",
       "</table>\n",
       "<p>120322 rows × 5 columns</p>\n",
       "</div>"
      ],
      "text/plain": [
       "        user_id country  age gender        creation_time\n",
       "0             0      UK   31      m  2002-12-28 01:00:00\n",
       "1             1      US   43      m  2003-04-15 02:00:00\n",
       "2             2      UK   35      m  2002-10-29 01:00:00\n",
       "3             3      BR   31      m  2003-07-20 02:00:00\n",
       "4             4     NaN   51      m  2003-07-21 02:00:00\n",
       "...         ...     ...  ...    ...                  ...\n",
       "120317   120317      RU   19      m  2012-07-21 18:15:05\n",
       "120318   120318     NaN   -1      n  2012-07-23 21:17:42\n",
       "120319   120319      BY   19      f  2012-07-19 22:07:27\n",
       "120320   120320     NaN   -1      m  2012-07-23 19:25:08\n",
       "120321   120321     NaN   16      n  2012-07-25 23:09:06\n",
       "\n",
       "[120322 rows x 5 columns]"
      ]
     },
     "execution_count": 2,
     "metadata": {},
     "output_type": "execute_result"
    }
   ],
   "source": [
    "users = pd.read_csv(users_path, sep='\\t')\n",
    "users"
   ]
  },
  {
   "cell_type": "code",
   "execution_count": 3,
   "id": "f80b0932-e88d-4010-a70b-a107a1f46576",
   "metadata": {},
   "outputs": [
    {
     "data": {
      "text/plain": [
       "array(['m', 'n', nan, 'f'], dtype=object)"
      ]
     },
     "execution_count": 3,
     "metadata": {},
     "output_type": "execute_result"
    }
   ],
   "source": [
    "genders = users['gender'].unique()\n",
    "genders"
   ]
  },
  {
   "cell_type": "code",
   "execution_count": 4,
   "id": "616988b2-fee2-4154-aebc-e2cc9fa74149",
   "metadata": {},
   "outputs": [],
   "source": [
    "users['gender'] = users['gender'].fillna('n')"
   ]
  },
  {
   "cell_type": "code",
   "execution_count": 5,
   "id": "ad3bfa5f-0892-4807-a85f-9857fa4f50e3",
   "metadata": {},
   "outputs": [
    {
     "data": {
      "text/plain": [
       "array(['m', 'n', 'f'], dtype=object)"
      ]
     },
     "execution_count": 5,
     "metadata": {},
     "output_type": "execute_result"
    }
   ],
   "source": [
    "users['gender'].unique()"
   ]
  },
  {
   "cell_type": "code",
   "execution_count": 6,
   "id": "f09f3fd9-575f-462e-a4f9-5261a858bca6",
   "metadata": {},
   "outputs": [
    {
     "data": {
      "text/plain": [
       "array(['UK', 'US', 'BR', 'ES', 'AT', 'IT', 'AU', 'NL', 'IE', 'DE', 'CA',\n",
       "       'DK', 'RU', 'CH', 'JP', 'SE', 'FI', 'BE', 'NO', 'AQ', 'HU', 'CZ',\n",
       "       'KH', 'LV', 'IL', 'NZ', 'ZA', 'UA', 'PL', 'FR', 'CC', 'RS', 'MX',\n",
       "       'IS', 'BG', 'PT', 'ST', 'AR', 'NI', 'KY', 'SI', 'LU', 'UM', 'TW',\n",
       "       'MG', 'CX', 'SJ', 'TR', 'AZ', 'TH', 'CL', 'LB', 'EE', 'AF', 'LI',\n",
       "       'BY', 'HR', 'LT', 'GR', 'CR', 'IN', 'ME', 'NR', 'FM', 'BF', 'PE',\n",
       "       'AE', 'SK', 'NU', 'ID', 'CO', 'PH', 'RO', 'CY', 'HM', 'SG', 'VE',\n",
       "       'KI', 'RE', 'MK', 'MY', 'VA', 'KR', 'MW', 'KZ', 'HT', 'VN', 'KP',\n",
       "       'MU', 'HK', 'CN', 'TT', 'AS', 'EH', 'NC', 'DZ', 'PA', 'BB', 'OM',\n",
       "       'EG', 'GU', 'GT', 'IR', 'IO', 'PS', 'MV', 'JO', 'ZW', 'GH', 'UY',\n",
       "       'PR', 'FJ', 'BA', 'DO', 'GS', 'TJ', 'VG', 'BW', 'WS', 'VI', 'AD',\n",
       "       'PF', 'AM', 'GE', 'MT', 'BO', 'CU', 'KG', 'BN', 'UZ', 'TV', 'CI',\n",
       "       'AL', 'BD', 'SC', 'TG', 'EC', 'LA', 'SV', 'VU', 'HN', 'MD', 'GP',\n",
       "       'BI', 'TN', 'KE', 'ZM', 'LK', 'BT', 'SR', 'JM', 'MA', 'CD', 'YE',\n",
       "       'SH', 'GD', 'DJ', 'GI', 'UG', 'SA', 'MN', 'AO', 'BS', 'TD', 'PY',\n",
       "       'FO', 'WF', 'LS', 'PM', 'MM', 'PK', 'PG', 'NP', 'SM', 'MZ', 'GA',\n",
       "       'MS', 'ET', 'SY', 'TO', 'CV', 'GL', 'SL', 'SZ', 'MH', 'TF', 'BV',\n",
       "       'TL', 'KN', 'KW', 'SO', 'AW', 'MO', 'MQ', 'MP', 'NE', 'IQ', 'CG',\n",
       "       'CK', 'KM', 'TZ', 'BM', 'LY', 'NG', 'GN', 'LR', 'PW'], dtype=object)"
      ]
     },
     "execution_count": 6,
     "metadata": {},
     "output_type": "execute_result"
    }
   ],
   "source": [
    "countries = users['country'].dropna().unique()\n",
    "countries"
   ]
  },
  {
   "cell_type": "code",
   "execution_count": 7,
   "id": "da17ea35-3e5e-4577-8048-fed37c2c9d99",
   "metadata": {},
   "outputs": [
    {
     "name": "stderr",
     "output_type": "stream",
     "text": [
      "/tmp/ipykernel_49655/141776587.py:1: FutureWarning: The error_bad_lines argument has been deprecated and will be removed in a future version. Use on_bad_lines in the future.\n",
      "\n",
      "\n",
      "  tracks = pd.read_csv(\n"
     ]
    },
    {
     "data": {
      "text/html": [
       "<div>\n",
       "<style scoped>\n",
       "    .dataframe tbody tr th:only-of-type {\n",
       "        vertical-align: middle;\n",
       "    }\n",
       "\n",
       "    .dataframe tbody tr th {\n",
       "        vertical-align: top;\n",
       "    }\n",
       "\n",
       "    .dataframe thead th {\n",
       "        text-align: right;\n",
       "    }\n",
       "</style>\n",
       "<table border=\"1\" class=\"dataframe\">\n",
       "  <thead>\n",
       "    <tr style=\"text-align: right;\">\n",
       "      <th></th>\n",
       "      <th>track_id</th>\n",
       "      <th>artist_name</th>\n",
       "      <th>track_name</th>\n",
       "    </tr>\n",
       "  </thead>\n",
       "  <tbody>\n",
       "    <tr>\n",
       "      <th>0</th>\n",
       "      <td>0</td>\n",
       "      <td>Mika Miko</td>\n",
       "      <td></td>\n",
       "    </tr>\n",
       "    <tr>\n",
       "      <th>1</th>\n",
       "      <td>1</td>\n",
       "      <td>Comm</td>\n",
       "      <td>\u0001</td>\n",
       "    </tr>\n",
       "    <tr>\n",
       "      <th>2</th>\n",
       "      <td>2</td>\n",
       "      <td>deadmau5</td>\n",
       "      <td>\u0001</td>\n",
       "    </tr>\n",
       "    <tr>\n",
       "      <th>3</th>\n",
       "      <td>3</td>\n",
       "      <td>Rasheed Chappell</td>\n",
       "      <td>\u0003</td>\n",
       "    </tr>\n",
       "    <tr>\n",
       "      <th>4</th>\n",
       "      <td>4</td>\n",
       "      <td>rck</td>\n",
       "      <td>\u0003</td>\n",
       "    </tr>\n",
       "    <tr>\n",
       "      <th>...</th>\n",
       "      <td>...</td>\n",
       "      <td>...</td>\n",
       "      <td>...</td>\n",
       "    </tr>\n",
       "    <tr>\n",
       "      <th>50813368</th>\n",
       "      <td>50813368</td>\n",
       "      <td>ЗупиниЛося</td>\n",
       "      <td>🦌 ЗупиниЛося №60. Бійки, стрілянина і табуни д...</td>\n",
       "    </tr>\n",
       "    <tr>\n",
       "      <th>50813369</th>\n",
       "      <td>50813369</td>\n",
       "      <td>ЗупиниЛося</td>\n",
       "      <td>🦌 ЗупиниЛося №69. Повний паркувальний бардак н...</td>\n",
       "    </tr>\n",
       "    <tr>\n",
       "      <th>50813370</th>\n",
       "      <td>50813370</td>\n",
       "      <td>Lost Cascades</td>\n",
       "      <td>🧝‍♀️ 𝒜 𝒮𝓉𝓇𝒶𝓃𝑔𝑒𝓇 𝒜𝓅𝓅𝓇𝑜𝒶𝒸𝒽𝑒𝓈: '𝒟𝓇𝒶𝓊⻕</td>\n",
       "    </tr>\n",
       "    <tr>\n",
       "      <th>50813371</th>\n",
       "      <td>50813371</td>\n",
       "      <td>Lost Cascades</td>\n",
       "      <td>🧝♀️ 𝒜 𝒮𝓉𝓇𝒶𝓃𝑔𝑒𝓇 𝒜𝓅𝓅𝓇𝑜𝒶𝒸𝒽𝑒𝓈: '𝒟𝓇𝒶𝓊𝑔𝒽𝓉 𝑜𝒻 𝐵𝓁𝑒𝓈𝓈𝑒𝒹...</td>\n",
       "    </tr>\n",
       "    <tr>\n",
       "      <th>50813372</th>\n",
       "      <td>50813372</td>\n",
       "      <td>百合花</td>\n",
       "      <td>𨑨迌</td>\n",
       "    </tr>\n",
       "  </tbody>\n",
       "</table>\n",
       "<p>50813373 rows × 3 columns</p>\n",
       "</div>"
      ],
      "text/plain": [
       "          track_id       artist_name  \\\n",
       "0                0         Mika Miko   \n",
       "1                1              Comm   \n",
       "2                2          deadmau5   \n",
       "3                3  Rasheed Chappell   \n",
       "4                4               rck   \n",
       "...            ...               ...   \n",
       "50813368  50813368        ЗупиниЛося   \n",
       "50813369  50813369        ЗупиниЛося   \n",
       "50813370  50813370     Lost Cascades   \n",
       "50813371  50813371     Lost Cascades   \n",
       "50813372  50813372               百合花   \n",
       "\n",
       "                                                 track_name  \n",
       "0                                                            \n",
       "1                                                         \u0001  \n",
       "2                                                         \u0001  \n",
       "3                                                         \u0003  \n",
       "4                                                         \u0003  \n",
       "...                                                     ...  \n",
       "50813368  🦌 ЗупиниЛося №60. Бійки, стрілянина і табуни д...  \n",
       "50813369  🦌 ЗупиниЛося №69. Повний паркувальний бардак н...  \n",
       "50813370                 🧝‍♀️ 𝒜 𝒮𝓉𝓇𝒶𝓃𝑔𝑒𝓇 𝒜𝓅𝓅𝓇𝑜𝒶𝒸𝒽𝑒𝓈: '𝒟𝓇𝒶𝓊⻕  \n",
       "50813371  🧝♀️ 𝒜 𝒮𝓉𝓇𝒶𝓃𝑔𝑒𝓇 𝒜𝓅𝓅𝓇𝑜𝒶𝒸𝒽𝑒𝓈: '𝒟𝓇𝒶𝓊𝑔𝒽𝓉 𝑜𝒻 𝐵𝓁𝑒𝓈𝓈𝑒𝒹...  \n",
       "50813372                                                 𨑨迌  \n",
       "\n",
       "[50813373 rows x 3 columns]"
      ]
     },
     "execution_count": 7,
     "metadata": {},
     "output_type": "execute_result"
    }
   ],
   "source": [
    "tracks = pd.read_csv(\n",
    "    tracks_path,\n",
    "    sep='\\t',\n",
    "    na_values='',\n",
    "    na_filter=False,\n",
    "    error_bad_lines=False,\n",
    "    quoting=csv.QUOTE_NONE,\n",
    ")\n",
    "tracks"
   ]
  },
  {
   "cell_type": "code",
   "execution_count": 8,
   "id": "308a4922-3874-4297-9209-315fa73d92e0",
   "metadata": {},
   "outputs": [
    {
     "data": {
      "text/html": [
       "<div>\n",
       "<style scoped>\n",
       "    .dataframe tbody tr th:only-of-type {\n",
       "        vertical-align: middle;\n",
       "    }\n",
       "\n",
       "    .dataframe tbody tr th {\n",
       "        vertical-align: top;\n",
       "    }\n",
       "\n",
       "    .dataframe thead th {\n",
       "        text-align: right;\n",
       "    }\n",
       "</style>\n",
       "<table border=\"1\" class=\"dataframe\">\n",
       "  <thead>\n",
       "    <tr style=\"text-align: right;\">\n",
       "      <th></th>\n",
       "      <th>user_id</th>\n",
       "      <th>track_id</th>\n",
       "      <th>count</th>\n",
       "    </tr>\n",
       "  </thead>\n",
       "  <tbody>\n",
       "    <tr>\n",
       "      <th>0</th>\n",
       "      <td>92915</td>\n",
       "      <td>26719936</td>\n",
       "      <td>1</td>\n",
       "    </tr>\n",
       "    <tr>\n",
       "      <th>1</th>\n",
       "      <td>92915</td>\n",
       "      <td>4271407</td>\n",
       "      <td>1</td>\n",
       "    </tr>\n",
       "    <tr>\n",
       "      <th>2</th>\n",
       "      <td>92915</td>\n",
       "      <td>4606511</td>\n",
       "      <td>1</td>\n",
       "    </tr>\n",
       "    <tr>\n",
       "      <th>3</th>\n",
       "      <td>92915</td>\n",
       "      <td>8966085</td>\n",
       "      <td>1</td>\n",
       "    </tr>\n",
       "    <tr>\n",
       "      <th>4</th>\n",
       "      <td>92915</td>\n",
       "      <td>12290897</td>\n",
       "      <td>1</td>\n",
       "    </tr>\n",
       "    <tr>\n",
       "      <th>...</th>\n",
       "      <td>...</td>\n",
       "      <td>...</td>\n",
       "      <td>...</td>\n",
       "    </tr>\n",
       "    <tr>\n",
       "      <th>519293328</th>\n",
       "      <td>119080</td>\n",
       "      <td>44144633</td>\n",
       "      <td>1</td>\n",
       "    </tr>\n",
       "    <tr>\n",
       "      <th>519293329</th>\n",
       "      <td>119080</td>\n",
       "      <td>45141923</td>\n",
       "      <td>1</td>\n",
       "    </tr>\n",
       "    <tr>\n",
       "      <th>519293330</th>\n",
       "      <td>119080</td>\n",
       "      <td>46171716</td>\n",
       "      <td>1</td>\n",
       "    </tr>\n",
       "    <tr>\n",
       "      <th>519293331</th>\n",
       "      <td>119080</td>\n",
       "      <td>46245572</td>\n",
       "      <td>1</td>\n",
       "    </tr>\n",
       "    <tr>\n",
       "      <th>519293332</th>\n",
       "      <td>119080</td>\n",
       "      <td>4705833</td>\n",
       "      <td>1</td>\n",
       "    </tr>\n",
       "  </tbody>\n",
       "</table>\n",
       "<p>519293333 rows × 3 columns</p>\n",
       "</div>"
      ],
      "text/plain": [
       "           user_id  track_id  count\n",
       "0            92915  26719936      1\n",
       "1            92915   4271407      1\n",
       "2            92915   4606511      1\n",
       "3            92915   8966085      1\n",
       "4            92915  12290897      1\n",
       "...            ...       ...    ...\n",
       "519293328   119080  44144633      1\n",
       "519293329   119080  45141923      1\n",
       "519293330   119080  46171716      1\n",
       "519293331   119080  46245572      1\n",
       "519293332   119080   4705833      1\n",
       "\n",
       "[519293333 rows x 3 columns]"
      ]
     },
     "execution_count": 8,
     "metadata": {},
     "output_type": "execute_result"
    }
   ],
   "source": [
    "listening_counts = pd.read_csv('lfm-b2/listening-counts.tsv', sep='\\t')\n",
    "listening_counts"
   ]
  },
  {
   "cell_type": "code",
   "execution_count": 9,
   "id": "48cad0b0-8a37-4afd-9fd7-6ac405a89281",
   "metadata": {},
   "outputs": [
    {
     "data": {
      "text/html": [
       "<div>\n",
       "<style scoped>\n",
       "    .dataframe tbody tr th:only-of-type {\n",
       "        vertical-align: middle;\n",
       "    }\n",
       "\n",
       "    .dataframe tbody tr th {\n",
       "        vertical-align: top;\n",
       "    }\n",
       "\n",
       "    .dataframe thead th {\n",
       "        text-align: right;\n",
       "    }\n",
       "</style>\n",
       "<table border=\"1\" class=\"dataframe\">\n",
       "  <thead>\n",
       "    <tr style=\"text-align: right;\">\n",
       "      <th></th>\n",
       "      <th>size</th>\n",
       "    </tr>\n",
       "    <tr>\n",
       "      <th>user_id</th>\n",
       "      <th></th>\n",
       "    </tr>\n",
       "  </thead>\n",
       "  <tbody>\n",
       "    <tr>\n",
       "      <th>0</th>\n",
       "      <td>17612</td>\n",
       "    </tr>\n",
       "    <tr>\n",
       "      <th>1</th>\n",
       "      <td>775</td>\n",
       "    </tr>\n",
       "    <tr>\n",
       "      <th>2</th>\n",
       "      <td>8658</td>\n",
       "    </tr>\n",
       "    <tr>\n",
       "      <th>3</th>\n",
       "      <td>9435</td>\n",
       "    </tr>\n",
       "    <tr>\n",
       "      <th>4</th>\n",
       "      <td>15471</td>\n",
       "    </tr>\n",
       "    <tr>\n",
       "      <th>...</th>\n",
       "      <td>...</td>\n",
       "    </tr>\n",
       "    <tr>\n",
       "      <th>120317</th>\n",
       "      <td>3970</td>\n",
       "    </tr>\n",
       "    <tr>\n",
       "      <th>120318</th>\n",
       "      <td>3559</td>\n",
       "    </tr>\n",
       "    <tr>\n",
       "      <th>120319</th>\n",
       "      <td>14021</td>\n",
       "    </tr>\n",
       "    <tr>\n",
       "      <th>120320</th>\n",
       "      <td>676</td>\n",
       "    </tr>\n",
       "    <tr>\n",
       "      <th>120321</th>\n",
       "      <td>29657</td>\n",
       "    </tr>\n",
       "  </tbody>\n",
       "</table>\n",
       "<p>120322 rows × 1 columns</p>\n",
       "</div>"
      ],
      "text/plain": [
       "          size\n",
       "user_id       \n",
       "0        17612\n",
       "1          775\n",
       "2         8658\n",
       "3         9435\n",
       "4        15471\n",
       "...        ...\n",
       "120317    3970\n",
       "120318    3559\n",
       "120319   14021\n",
       "120320     676\n",
       "120321   29657\n",
       "\n",
       "[120322 rows x 1 columns]"
      ]
     },
     "execution_count": 9,
     "metadata": {},
     "output_type": "execute_result"
    }
   ],
   "source": [
    "listening_count_sizes_by_user = listening_counts.groupby('user_id').size().to_frame('size')\n",
    "listening_count_sizes_by_user"
   ]
  },
  {
   "cell_type": "code",
   "execution_count": 10,
   "id": "ca6a9ad0-d768-4056-b33f-9843ac3653ed",
   "metadata": {},
   "outputs": [
    {
     "data": {
      "text/html": [
       "<div>\n",
       "<style scoped>\n",
       "    .dataframe tbody tr th:only-of-type {\n",
       "        vertical-align: middle;\n",
       "    }\n",
       "\n",
       "    .dataframe tbody tr th {\n",
       "        vertical-align: top;\n",
       "    }\n",
       "\n",
       "    .dataframe thead th {\n",
       "        text-align: right;\n",
       "    }\n",
       "</style>\n",
       "<table border=\"1\" class=\"dataframe\">\n",
       "  <thead>\n",
       "    <tr style=\"text-align: right;\">\n",
       "      <th></th>\n",
       "      <th>size</th>\n",
       "    </tr>\n",
       "    <tr>\n",
       "      <th>user_id</th>\n",
       "      <th></th>\n",
       "    </tr>\n",
       "  </thead>\n",
       "  <tbody>\n",
       "    <tr>\n",
       "      <th>85</th>\n",
       "      <td>45</td>\n",
       "    </tr>\n",
       "    <tr>\n",
       "      <th>149</th>\n",
       "      <td>188</td>\n",
       "    </tr>\n",
       "    <tr>\n",
       "      <th>391</th>\n",
       "      <td>160</td>\n",
       "    </tr>\n",
       "    <tr>\n",
       "      <th>451</th>\n",
       "      <td>90</td>\n",
       "    </tr>\n",
       "    <tr>\n",
       "      <th>472</th>\n",
       "      <td>170</td>\n",
       "    </tr>\n",
       "    <tr>\n",
       "      <th>...</th>\n",
       "      <td>...</td>\n",
       "    </tr>\n",
       "    <tr>\n",
       "      <th>120305</th>\n",
       "      <td>37</td>\n",
       "    </tr>\n",
       "    <tr>\n",
       "      <th>120308</th>\n",
       "      <td>84</td>\n",
       "    </tr>\n",
       "    <tr>\n",
       "      <th>120311</th>\n",
       "      <td>69</td>\n",
       "    </tr>\n",
       "    <tr>\n",
       "      <th>120312</th>\n",
       "      <td>36</td>\n",
       "    </tr>\n",
       "    <tr>\n",
       "      <th>120316</th>\n",
       "      <td>60</td>\n",
       "    </tr>\n",
       "  </tbody>\n",
       "</table>\n",
       "<p>11977 rows × 1 columns</p>\n",
       "</div>"
      ],
      "text/plain": [
       "         size\n",
       "user_id      \n",
       "85         45\n",
       "149       188\n",
       "391       160\n",
       "451        90\n",
       "472       170\n",
       "...       ...\n",
       "120305     37\n",
       "120308     84\n",
       "120311     69\n",
       "120312     36\n",
       "120316     60\n",
       "\n",
       "[11977 rows x 1 columns]"
      ]
     },
     "execution_count": 10,
     "metadata": {},
     "output_type": "execute_result"
    }
   ],
   "source": [
    "listening_count_sizes_by_user[listening_count_sizes_by_user['size'] < min_tracks_for_user]"
   ]
  },
  {
   "cell_type": "code",
   "execution_count": 11,
   "id": "f3d3aeb4-90e9-48b7-95b2-53ee80ba2213",
   "metadata": {},
   "outputs": [
    {
     "data": {
      "text/html": [
       "<div>\n",
       "<style scoped>\n",
       "    .dataframe tbody tr th:only-of-type {\n",
       "        vertical-align: middle;\n",
       "    }\n",
       "\n",
       "    .dataframe tbody tr th {\n",
       "        vertical-align: top;\n",
       "    }\n",
       "\n",
       "    .dataframe thead th {\n",
       "        text-align: right;\n",
       "    }\n",
       "</style>\n",
       "<table border=\"1\" class=\"dataframe\">\n",
       "  <thead>\n",
       "    <tr style=\"text-align: right;\">\n",
       "      <th></th>\n",
       "      <th>user_id</th>\n",
       "      <th>country</th>\n",
       "      <th>age</th>\n",
       "      <th>gender</th>\n",
       "      <th>creation_time</th>\n",
       "    </tr>\n",
       "  </thead>\n",
       "  <tbody>\n",
       "    <tr>\n",
       "      <th>0</th>\n",
       "      <td>0</td>\n",
       "      <td>UK</td>\n",
       "      <td>31</td>\n",
       "      <td>m</td>\n",
       "      <td>2002-12-28 01:00:00</td>\n",
       "    </tr>\n",
       "    <tr>\n",
       "      <th>1</th>\n",
       "      <td>1</td>\n",
       "      <td>US</td>\n",
       "      <td>43</td>\n",
       "      <td>m</td>\n",
       "      <td>2003-04-15 02:00:00</td>\n",
       "    </tr>\n",
       "    <tr>\n",
       "      <th>2</th>\n",
       "      <td>2</td>\n",
       "      <td>UK</td>\n",
       "      <td>35</td>\n",
       "      <td>m</td>\n",
       "      <td>2002-10-29 01:00:00</td>\n",
       "    </tr>\n",
       "    <tr>\n",
       "      <th>3</th>\n",
       "      <td>3</td>\n",
       "      <td>BR</td>\n",
       "      <td>31</td>\n",
       "      <td>m</td>\n",
       "      <td>2003-07-20 02:00:00</td>\n",
       "    </tr>\n",
       "    <tr>\n",
       "      <th>4</th>\n",
       "      <td>4</td>\n",
       "      <td>NaN</td>\n",
       "      <td>51</td>\n",
       "      <td>m</td>\n",
       "      <td>2003-07-21 02:00:00</td>\n",
       "    </tr>\n",
       "    <tr>\n",
       "      <th>...</th>\n",
       "      <td>...</td>\n",
       "      <td>...</td>\n",
       "      <td>...</td>\n",
       "      <td>...</td>\n",
       "      <td>...</td>\n",
       "    </tr>\n",
       "    <tr>\n",
       "      <th>120317</th>\n",
       "      <td>120317</td>\n",
       "      <td>RU</td>\n",
       "      <td>19</td>\n",
       "      <td>m</td>\n",
       "      <td>2012-07-21 18:15:05</td>\n",
       "    </tr>\n",
       "    <tr>\n",
       "      <th>120318</th>\n",
       "      <td>120318</td>\n",
       "      <td>NaN</td>\n",
       "      <td>-1</td>\n",
       "      <td>n</td>\n",
       "      <td>2012-07-23 21:17:42</td>\n",
       "    </tr>\n",
       "    <tr>\n",
       "      <th>120319</th>\n",
       "      <td>120319</td>\n",
       "      <td>BY</td>\n",
       "      <td>19</td>\n",
       "      <td>f</td>\n",
       "      <td>2012-07-19 22:07:27</td>\n",
       "    </tr>\n",
       "    <tr>\n",
       "      <th>120320</th>\n",
       "      <td>120320</td>\n",
       "      <td>NaN</td>\n",
       "      <td>-1</td>\n",
       "      <td>m</td>\n",
       "      <td>2012-07-23 19:25:08</td>\n",
       "    </tr>\n",
       "    <tr>\n",
       "      <th>120321</th>\n",
       "      <td>120321</td>\n",
       "      <td>NaN</td>\n",
       "      <td>16</td>\n",
       "      <td>n</td>\n",
       "      <td>2012-07-25 23:09:06</td>\n",
       "    </tr>\n",
       "  </tbody>\n",
       "</table>\n",
       "<p>108345 rows × 5 columns</p>\n",
       "</div>"
      ],
      "text/plain": [
       "        user_id country  age gender        creation_time\n",
       "0             0      UK   31      m  2002-12-28 01:00:00\n",
       "1             1      US   43      m  2003-04-15 02:00:00\n",
       "2             2      UK   35      m  2002-10-29 01:00:00\n",
       "3             3      BR   31      m  2003-07-20 02:00:00\n",
       "4             4     NaN   51      m  2003-07-21 02:00:00\n",
       "...         ...     ...  ...    ...                  ...\n",
       "120317   120317      RU   19      m  2012-07-21 18:15:05\n",
       "120318   120318     NaN   -1      n  2012-07-23 21:17:42\n",
       "120319   120319      BY   19      f  2012-07-19 22:07:27\n",
       "120320   120320     NaN   -1      m  2012-07-23 19:25:08\n",
       "120321   120321     NaN   16      n  2012-07-25 23:09:06\n",
       "\n",
       "[108345 rows x 5 columns]"
      ]
     },
     "execution_count": 11,
     "metadata": {},
     "output_type": "execute_result"
    }
   ],
   "source": [
    "users_with_enough_interactions = users.filter(\n",
    "    listening_count_sizes_by_user[listening_count_sizes_by_user['size'] >= min_tracks_for_user].index,\n",
    "    axis='index',\n",
    ")\n",
    "users_with_enough_interactions"
   ]
  },
  {
   "cell_type": "code",
   "execution_count": 12,
   "id": "40272061-bdc4-4368-b1e5-eccf31d20076",
   "metadata": {},
   "outputs": [
    {
     "data": {
      "text/html": [
       "<div>\n",
       "<style scoped>\n",
       "    .dataframe tbody tr th:only-of-type {\n",
       "        vertical-align: middle;\n",
       "    }\n",
       "\n",
       "    .dataframe tbody tr th {\n",
       "        vertical-align: top;\n",
       "    }\n",
       "\n",
       "    .dataframe thead th {\n",
       "        text-align: right;\n",
       "    }\n",
       "</style>\n",
       "<table border=\"1\" class=\"dataframe\">\n",
       "  <thead>\n",
       "    <tr style=\"text-align: right;\">\n",
       "      <th></th>\n",
       "      <th>size</th>\n",
       "    </tr>\n",
       "    <tr>\n",
       "      <th>track_id</th>\n",
       "      <th></th>\n",
       "    </tr>\n",
       "  </thead>\n",
       "  <tbody>\n",
       "    <tr>\n",
       "      <th>0</th>\n",
       "      <td>1</td>\n",
       "    </tr>\n",
       "    <tr>\n",
       "      <th>1</th>\n",
       "      <td>1</td>\n",
       "    </tr>\n",
       "    <tr>\n",
       "      <th>2</th>\n",
       "      <td>1</td>\n",
       "    </tr>\n",
       "    <tr>\n",
       "      <th>3</th>\n",
       "      <td>1</td>\n",
       "    </tr>\n",
       "    <tr>\n",
       "      <th>4</th>\n",
       "      <td>1</td>\n",
       "    </tr>\n",
       "    <tr>\n",
       "      <th>...</th>\n",
       "      <td>...</td>\n",
       "    </tr>\n",
       "    <tr>\n",
       "      <th>50813368</th>\n",
       "      <td>1</td>\n",
       "    </tr>\n",
       "    <tr>\n",
       "      <th>50813369</th>\n",
       "      <td>1</td>\n",
       "    </tr>\n",
       "    <tr>\n",
       "      <th>50813370</th>\n",
       "      <td>2</td>\n",
       "    </tr>\n",
       "    <tr>\n",
       "      <th>50813371</th>\n",
       "      <td>1</td>\n",
       "    </tr>\n",
       "    <tr>\n",
       "      <th>50813372</th>\n",
       "      <td>1</td>\n",
       "    </tr>\n",
       "  </tbody>\n",
       "</table>\n",
       "<p>50813373 rows × 1 columns</p>\n",
       "</div>"
      ],
      "text/plain": [
       "          size\n",
       "track_id      \n",
       "0            1\n",
       "1            1\n",
       "2            1\n",
       "3            1\n",
       "4            1\n",
       "...        ...\n",
       "50813368     1\n",
       "50813369     1\n",
       "50813370     2\n",
       "50813371     1\n",
       "50813372     1\n",
       "\n",
       "[50813373 rows x 1 columns]"
      ]
     },
     "execution_count": 12,
     "metadata": {},
     "output_type": "execute_result"
    }
   ],
   "source": [
    "listening_count_sizes_by_track = listening_counts.groupby('track_id').size().to_frame('size')\n",
    "listening_count_sizes_by_track"
   ]
  },
  {
   "cell_type": "code",
   "execution_count": 13,
   "id": "e7cc5931-b9b6-47fa-bd3e-3abdcee0265a",
   "metadata": {},
   "outputs": [
    {
     "data": {
      "text/html": [
       "<div>\n",
       "<style scoped>\n",
       "    .dataframe tbody tr th:only-of-type {\n",
       "        vertical-align: middle;\n",
       "    }\n",
       "\n",
       "    .dataframe tbody tr th {\n",
       "        vertical-align: top;\n",
       "    }\n",
       "\n",
       "    .dataframe thead th {\n",
       "        text-align: right;\n",
       "    }\n",
       "</style>\n",
       "<table border=\"1\" class=\"dataframe\">\n",
       "  <thead>\n",
       "    <tr style=\"text-align: right;\">\n",
       "      <th></th>\n",
       "      <th>size</th>\n",
       "    </tr>\n",
       "    <tr>\n",
       "      <th>track_id</th>\n",
       "      <th></th>\n",
       "    </tr>\n",
       "  </thead>\n",
       "  <tbody>\n",
       "    <tr>\n",
       "      <th>0</th>\n",
       "      <td>1</td>\n",
       "    </tr>\n",
       "    <tr>\n",
       "      <th>1</th>\n",
       "      <td>1</td>\n",
       "    </tr>\n",
       "    <tr>\n",
       "      <th>2</th>\n",
       "      <td>1</td>\n",
       "    </tr>\n",
       "    <tr>\n",
       "      <th>3</th>\n",
       "      <td>1</td>\n",
       "    </tr>\n",
       "    <tr>\n",
       "      <th>4</th>\n",
       "      <td>1</td>\n",
       "    </tr>\n",
       "    <tr>\n",
       "      <th>...</th>\n",
       "      <td>...</td>\n",
       "    </tr>\n",
       "    <tr>\n",
       "      <th>50813368</th>\n",
       "      <td>1</td>\n",
       "    </tr>\n",
       "    <tr>\n",
       "      <th>50813369</th>\n",
       "      <td>1</td>\n",
       "    </tr>\n",
       "    <tr>\n",
       "      <th>50813370</th>\n",
       "      <td>2</td>\n",
       "    </tr>\n",
       "    <tr>\n",
       "      <th>50813371</th>\n",
       "      <td>1</td>\n",
       "    </tr>\n",
       "    <tr>\n",
       "      <th>50813372</th>\n",
       "      <td>1</td>\n",
       "    </tr>\n",
       "  </tbody>\n",
       "</table>\n",
       "<p>50793275 rows × 1 columns</p>\n",
       "</div>"
      ],
      "text/plain": [
       "          size\n",
       "track_id      \n",
       "0            1\n",
       "1            1\n",
       "2            1\n",
       "3            1\n",
       "4            1\n",
       "...        ...\n",
       "50813368     1\n",
       "50813369     1\n",
       "50813370     2\n",
       "50813371     1\n",
       "50813372     1\n",
       "\n",
       "[50793275 rows x 1 columns]"
      ]
     },
     "execution_count": 13,
     "metadata": {},
     "output_type": "execute_result"
    }
   ],
   "source": [
    "listening_count_sizes_by_track[listening_count_sizes_by_track['size'] < min_listenings_for_track]"
   ]
  },
  {
   "cell_type": "code",
   "execution_count": 14,
   "id": "3b712a56-94d9-485d-af83-66bc47ad57c8",
   "metadata": {},
   "outputs": [
    {
     "data": {
      "text/html": [
       "<div>\n",
       "<style scoped>\n",
       "    .dataframe tbody tr th:only-of-type {\n",
       "        vertical-align: middle;\n",
       "    }\n",
       "\n",
       "    .dataframe tbody tr th {\n",
       "        vertical-align: top;\n",
       "    }\n",
       "\n",
       "    .dataframe thead th {\n",
       "        text-align: right;\n",
       "    }\n",
       "</style>\n",
       "<table border=\"1\" class=\"dataframe\">\n",
       "  <thead>\n",
       "    <tr style=\"text-align: right;\">\n",
       "      <th></th>\n",
       "      <th>track_id</th>\n",
       "      <th>artist_name</th>\n",
       "      <th>track_name</th>\n",
       "    </tr>\n",
       "  </thead>\n",
       "  <tbody>\n",
       "    <tr>\n",
       "      <th>4774</th>\n",
       "      <td>4774</td>\n",
       "      <td>The Gaslight Anthem</td>\n",
       "      <td>\"45\"</td>\n",
       "    </tr>\n",
       "    <tr>\n",
       "      <th>24587</th>\n",
       "      <td>24587</td>\n",
       "      <td>David Bowie</td>\n",
       "      <td>\"Heroes\"</td>\n",
       "    </tr>\n",
       "    <tr>\n",
       "      <th>53266</th>\n",
       "      <td>53266</td>\n",
       "      <td>Fall Out Boy</td>\n",
       "      <td>\"The Take Over, The Breaks Over\"</td>\n",
       "    </tr>\n",
       "    <tr>\n",
       "      <th>60677</th>\n",
       "      <td>60677</td>\n",
       "      <td>Queens of the Stone Age</td>\n",
       "      <td>\"You Got a Killer Scene There, Man...\"</td>\n",
       "    </tr>\n",
       "    <tr>\n",
       "      <th>74470</th>\n",
       "      <td>74470</td>\n",
       "      <td>Animal Collective</td>\n",
       "      <td>#1</td>\n",
       "    </tr>\n",
       "    <tr>\n",
       "      <th>...</th>\n",
       "      <td>...</td>\n",
       "      <td>...</td>\n",
       "      <td>...</td>\n",
       "    </tr>\n",
       "    <tr>\n",
       "      <th>48014274</th>\n",
       "      <td>48014274</td>\n",
       "      <td>Ólafur Arnalds</td>\n",
       "      <td>Þú ert sólin</td>\n",
       "    </tr>\n",
       "    <tr>\n",
       "      <th>48333764</th>\n",
       "      <td>48333764</td>\n",
       "      <td>Сплин</td>\n",
       "      <td>Выхода нет</td>\n",
       "    </tr>\n",
       "    <tr>\n",
       "      <th>49707344</th>\n",
       "      <td>49707344</td>\n",
       "      <td>Queens of the Stone Age</td>\n",
       "      <td>…Like Clockwork</td>\n",
       "    </tr>\n",
       "    <tr>\n",
       "      <th>49721633</th>\n",
       "      <td>49721633</td>\n",
       "      <td>Baths</td>\n",
       "      <td>♥</td>\n",
       "    </tr>\n",
       "    <tr>\n",
       "      <th>50678542</th>\n",
       "      <td>50678542</td>\n",
       "      <td>Psy</td>\n",
       "      <td>강남스타일</td>\n",
       "    </tr>\n",
       "  </tbody>\n",
       "</table>\n",
       "<p>20098 rows × 3 columns</p>\n",
       "</div>"
      ],
      "text/plain": [
       "          track_id              artist_name  \\\n",
       "4774          4774      The Gaslight Anthem   \n",
       "24587        24587              David Bowie   \n",
       "53266        53266             Fall Out Boy   \n",
       "60677        60677  Queens of the Stone Age   \n",
       "74470        74470        Animal Collective   \n",
       "...            ...                      ...   \n",
       "48014274  48014274           Ólafur Arnalds   \n",
       "48333764  48333764                    Сплин   \n",
       "49707344  49707344  Queens of the Stone Age   \n",
       "49721633  49721633                    Baths   \n",
       "50678542  50678542                      Psy   \n",
       "\n",
       "                                      track_name  \n",
       "4774                                        \"45\"  \n",
       "24587                                   \"Heroes\"  \n",
       "53266           \"The Take Over, The Breaks Over\"  \n",
       "60677     \"You Got a Killer Scene There, Man...\"  \n",
       "74470                                         #1  \n",
       "...                                          ...  \n",
       "48014274                            Þú ert sólin  \n",
       "48333764                              Выхода нет  \n",
       "49707344                         …Like Clockwork  \n",
       "49721633                                       ♥  \n",
       "50678542                                   강남스타일  \n",
       "\n",
       "[20098 rows x 3 columns]"
      ]
     },
     "execution_count": 14,
     "metadata": {},
     "output_type": "execute_result"
    }
   ],
   "source": [
    "tracks_with_enough_interactions = tracks.filter(\n",
    "    listening_count_sizes_by_track[listening_count_sizes_by_track['size'] >= min_listenings_for_track].index,\n",
    "    axis='index',\n",
    ")\n",
    "tracks_with_enough_interactions"
   ]
  },
  {
   "cell_type": "code",
   "execution_count": 15,
   "id": "d8f51633-143a-498c-8300-0210d2918b21",
   "metadata": {},
   "outputs": [
    {
     "data": {
      "text/html": [
       "<div>\n",
       "<style scoped>\n",
       "    .dataframe tbody tr th:only-of-type {\n",
       "        vertical-align: middle;\n",
       "    }\n",
       "\n",
       "    .dataframe tbody tr th {\n",
       "        vertical-align: top;\n",
       "    }\n",
       "\n",
       "    .dataframe thead th {\n",
       "        text-align: right;\n",
       "    }\n",
       "</style>\n",
       "<table border=\"1\" class=\"dataframe\">\n",
       "  <thead>\n",
       "    <tr style=\"text-align: right;\">\n",
       "      <th></th>\n",
       "      <th>user_id</th>\n",
       "      <th>track_id</th>\n",
       "      <th>count</th>\n",
       "    </tr>\n",
       "  </thead>\n",
       "  <tbody>\n",
       "    <tr>\n",
       "      <th>1</th>\n",
       "      <td>92915</td>\n",
       "      <td>4271407</td>\n",
       "      <td>1</td>\n",
       "    </tr>\n",
       "    <tr>\n",
       "      <th>2</th>\n",
       "      <td>92915</td>\n",
       "      <td>4606511</td>\n",
       "      <td>1</td>\n",
       "    </tr>\n",
       "    <tr>\n",
       "      <th>5</th>\n",
       "      <td>92915</td>\n",
       "      <td>19127241</td>\n",
       "      <td>1</td>\n",
       "    </tr>\n",
       "    <tr>\n",
       "      <th>6</th>\n",
       "      <td>92915</td>\n",
       "      <td>24076341</td>\n",
       "      <td>1</td>\n",
       "    </tr>\n",
       "    <tr>\n",
       "      <th>24</th>\n",
       "      <td>92915</td>\n",
       "      <td>20415914</td>\n",
       "      <td>1</td>\n",
       "    </tr>\n",
       "    <tr>\n",
       "      <th>...</th>\n",
       "      <td>...</td>\n",
       "      <td>...</td>\n",
       "      <td>...</td>\n",
       "    </tr>\n",
       "    <tr>\n",
       "      <th>519292335</th>\n",
       "      <td>119080</td>\n",
       "      <td>28543631</td>\n",
       "      <td>1</td>\n",
       "    </tr>\n",
       "    <tr>\n",
       "      <th>519292626</th>\n",
       "      <td>119080</td>\n",
       "      <td>12440840</td>\n",
       "      <td>1</td>\n",
       "    </tr>\n",
       "    <tr>\n",
       "      <th>519292741</th>\n",
       "      <td>119080</td>\n",
       "      <td>28127652</td>\n",
       "      <td>1</td>\n",
       "    </tr>\n",
       "    <tr>\n",
       "      <th>519293157</th>\n",
       "      <td>119080</td>\n",
       "      <td>6956607</td>\n",
       "      <td>1</td>\n",
       "    </tr>\n",
       "    <tr>\n",
       "      <th>519293233</th>\n",
       "      <td>119080</td>\n",
       "      <td>13994834</td>\n",
       "      <td>2</td>\n",
       "    </tr>\n",
       "  </tbody>\n",
       "</table>\n",
       "<p>76745568 rows × 3 columns</p>\n",
       "</div>"
      ],
      "text/plain": [
       "           user_id  track_id  count\n",
       "1            92915   4271407      1\n",
       "2            92915   4606511      1\n",
       "5            92915  19127241      1\n",
       "6            92915  24076341      1\n",
       "24           92915  20415914      1\n",
       "...            ...       ...    ...\n",
       "519292335   119080  28543631      1\n",
       "519292626   119080  12440840      1\n",
       "519292741   119080  28127652      1\n",
       "519293157   119080   6956607      1\n",
       "519293233   119080  13994834      2\n",
       "\n",
       "[76745568 rows x 3 columns]"
      ]
     },
     "execution_count": 15,
     "metadata": {},
     "output_type": "execute_result"
    }
   ],
   "source": [
    "selected_listening_counts = listening_counts[listening_counts['user_id'].isin(users_with_enough_interactions.user_id)]\n",
    "selected_listening_counts = selected_listening_counts[selected_listening_counts['track_id'].isin(tracks_with_enough_interactions.track_id)]\n",
    "selected_listening_counts"
   ]
  },
  {
   "cell_type": "code",
   "execution_count": 16,
   "id": "873d8860-6bd4-411d-b089-136df68e281c",
   "metadata": {},
   "outputs": [],
   "source": [
    "del listening_counts\n",
    "del tracks_with_enough_interactions\n",
    "del listening_count_sizes_by_track\n",
    "del listening_count_sizes_by_user\n",
    "del users\n",
    "del tracks"
   ]
  },
  {
   "cell_type": "code",
   "execution_count": 17,
   "id": "b3efd7be-7eeb-4277-97fb-4fa359b6f500",
   "metadata": {},
   "outputs": [],
   "source": [
    "all_user_features = [\n",
    "  *countries,\n",
    "  *genders,\n",
    "]"
   ]
  },
  {
   "cell_type": "code",
   "execution_count": 18,
   "id": "a282dbfa-0486-409c-955c-344f4f484221",
   "metadata": {},
   "outputs": [
    {
     "name": "stdout",
     "output_type": "stream",
     "text": [
      "CPU times: user 5 µs, sys: 0 ns, total: 5 µs\n",
      "Wall time: 8.58 µs\n"
     ]
    }
   ],
   "source": [
    "dataset = Dataset()\n",
    "%time\n",
    "dataset.fit(selected_listening_counts.user_id, selected_listening_counts.track_id, user_features=all_user_features)"
   ]
  },
  {
   "cell_type": "code",
   "execution_count": 19,
   "id": "0285e557-e0d7-49d8-a738-dd1c50cd2372",
   "metadata": {},
   "outputs": [],
   "source": [
    "(interactions, weights) = dataset.build_interactions(selected_listening_counts.itertuples(False, None))"
   ]
  },
  {
   "cell_type": "code",
   "execution_count": 20,
   "id": "8736d2eb-c4f2-49af-ac01-8760d238e9e2",
   "metadata": {},
   "outputs": [
    {
     "name": "stdout",
     "output_type": "stream",
     "text": [
      "Num users: 107949, Num items 20098.\n"
     ]
    }
   ],
   "source": [
    "num_users, num_items = dataset.interactions_shape()\n",
    "print('Num users: {}, Num items {}.'.format(num_users, num_items))"
   ]
  },
  {
   "cell_type": "code",
   "execution_count": 21,
   "id": "c986b180-91ec-4a7a-8e5b-a0659db8f717",
   "metadata": {},
   "outputs": [],
   "source": [
    "# after filtering out tracks, some users have no more interactions and have to be removed\n",
    "users_in_dataset = users_with_enough_interactions[users_with_enough_interactions['user_id'].isin(selected_listening_counts.user_id)]\n",
    "user_features = dataset.build_user_features([(x[0], [x[1], x[3]]) for x in users_in_dataset.itertuples(False, None)])"
   ]
  },
  {
   "cell_type": "code",
   "execution_count": 22,
   "id": "1f7139e3-9e76-4519-80e4-8f4cfb3c5544",
   "metadata": {},
   "outputs": [],
   "source": [
    "del users_with_enough_interactions\n",
    "del selected_listening_counts"
   ]
  },
  {
   "cell_type": "code",
   "execution_count": 23,
   "id": "7649f62b-3847-40de-b9f6-3b4c427f981c",
   "metadata": {},
   "outputs": [],
   "source": [
    "(train_interactions, test_interactions) = random_train_test_split(\n",
    "    interactions,\n",
    "    test_percentage=test_percentage,\n",
    "    random_state=seed,\n",
    ")\n",
    "\n",
    "(train_weights, test_weights) = random_train_test_split(\n",
    "    weights,\n",
    "    test_percentage=test_percentage,\n",
    "    random_state=seed,\n",
    ")"
   ]
  },
  {
   "cell_type": "code",
   "execution_count": 24,
   "id": "5d6775fb-584d-49cf-b39d-6bef172278b6",
   "metadata": {},
   "outputs": [
    {
     "name": "stderr",
     "output_type": "stream",
     "text": [
      "Epoch: 100%|█████████████████████████████████████████████████████████████████████████████████████████████████████████████████████████████████████████████████████████████████████████████████████████████████████████████████████████████████████████████████████████████████████████████████| 2/2 [01:06<00:00, 33.45s/it]\n"
     ]
    },
    {
     "data": {
      "text/plain": [
       "<lightfm.lightfm.LightFM at 0x7fe96ce001f0>"
      ]
     },
     "execution_count": 24,
     "metadata": {},
     "output_type": "execute_result"
    }
   ],
   "source": [
    "model = LightFM(\n",
    "    loss='warp',\n",
    "    random_state=seed,\n",
    ")\n",
    "model.fit(\n",
    "    train_interactions,\n",
    "    user_features=user_features,\n",
    "    sample_weight=train_weights,\n",
    "    epochs=epochs,\n",
    "    num_threads=num_threads,\n",
    "    verbose=True,\n",
    ")"
   ]
  },
  {
   "cell_type": "code",
   "execution_count": 25,
   "id": "3426068b-d80c-4a07-bf5a-7f56d686c5b8",
   "metadata": {},
   "outputs": [],
   "source": [
    "def dump(var, name):\n",
    "    with open(f'./pickle/{base_file_name}.{name}.pickle', 'wb') as handle:\n",
    "        pickle.dump(var, handle)\n",
    "\n",
    "dump(model, 'model')\n",
    "dump(test_interactions, 'test_interactions')\n",
    "dump(train_interactions, 'train_interactions')\n",
    "dump(user_features, 'user_features')"
   ]
  },
  {
   "cell_type": "code",
   "execution_count": 26,
   "id": "67b27a9d-ab7a-4c6b-9ab1-4b423bd085e0",
   "metadata": {},
   "outputs": [
    {
     "name": "stdout",
     "output_type": "stream",
     "text": [
      "CPU times: user 19min 35s, sys: 1.42 s, total: 19min 36s\n",
      "Wall time: 2min 9s\n"
     ]
    },
    {
     "data": {
      "text/plain": [
       "0.004211642693356601"
      ]
     },
     "execution_count": 26,
     "metadata": {},
     "output_type": "execute_result"
    }
   ],
   "source": [
    "%%time\n",
    "recall_at_k(\n",
    "    model,\n",
    "    test_interactions,\n",
    "    train_interactions,\n",
    "    k=3,\n",
    "    user_features=user_features,\n",
    "    num_threads=num_threads,\n",
    ").mean()"
   ]
  },
  {
   "cell_type": "code",
   "execution_count": 27,
   "id": "d9146445-a808-426b-8464-7d1c7fc46af6",
   "metadata": {},
   "outputs": [
    {
     "name": "stdout",
     "output_type": "stream",
     "text": [
      "CPU times: user 19min 39s, sys: 1.6 s, total: 19min 41s\n",
      "Wall time: 2min 10s\n"
     ]
    },
    {
     "data": {
      "text/plain": [
       "0.006325640825753525"
      ]
     },
     "execution_count": 27,
     "metadata": {},
     "output_type": "execute_result"
    }
   ],
   "source": [
    "%%time\n",
    "recall_at_k(\n",
    "    model,\n",
    "    test_interactions,\n",
    "    train_interactions,\n",
    "    k=5,\n",
    "    user_features=user_features,\n",
    "    num_threads=num_threads,\n",
    ").mean()"
   ]
  },
  {
   "cell_type": "code",
   "execution_count": 28,
   "id": "0e95456f-01d9-44f1-b663-21bd55c05176",
   "metadata": {},
   "outputs": [
    {
     "name": "stdout",
     "output_type": "stream",
     "text": [
      "CPU times: user 19min 43s, sys: 2.19 s, total: 19min 45s\n",
      "Wall time: 2min 8s\n"
     ]
    },
    {
     "data": {
      "text/plain": [
       "0.010928274023149637"
      ]
     },
     "execution_count": 28,
     "metadata": {},
     "output_type": "execute_result"
    }
   ],
   "source": [
    "%%time\n",
    "recall_at_k(\n",
    "    model,\n",
    "    test_interactions,\n",
    "    train_interactions,\n",
    "    k=10,\n",
    "    user_features=user_features,\n",
    "    num_threads=num_threads,\n",
    ").mean()"
   ]
  },
  {
   "cell_type": "code",
   "execution_count": 29,
   "id": "1d1f4e06-6a89-43d0-9fc6-9d7cb0de9a27",
   "metadata": {},
   "outputs": [
    {
     "name": "stdout",
     "output_type": "stream",
     "text": [
      "CPU times: user 19min 25s, sys: 2.15 s, total: 19min 28s\n",
      "Wall time: 2min 7s\n"
     ]
    },
    {
     "data": {
      "text/plain": [
       "0.20164616"
      ]
     },
     "execution_count": 29,
     "metadata": {},
     "output_type": "execute_result"
    }
   ],
   "source": [
    "%%time\n",
    "precision_at_k(\n",
    "    model,\n",
    "    test_interactions,\n",
    "    train_interactions,\n",
    "    k=3,\n",
    "    user_features=user_features,\n",
    "    num_threads=num_threads,\n",
    ").mean()"
   ]
  },
  {
   "cell_type": "code",
   "execution_count": 30,
   "id": "29b5bd2a-ede6-4044-bcc7-da74df2d0b00",
   "metadata": {},
   "outputs": [
    {
     "name": "stdout",
     "output_type": "stream",
     "text": [
      "CPU times: user 19min 36s, sys: 2.25 s, total: 19min 38s\n",
      "Wall time: 2min 7s\n"
     ]
    },
    {
     "data": {
      "text/plain": [
       "0.18863027"
      ]
     },
     "execution_count": 30,
     "metadata": {},
     "output_type": "execute_result"
    }
   ],
   "source": [
    "%%time\n",
    "precision_at_k(\n",
    "    model,\n",
    "    test_interactions,\n",
    "    train_interactions,\n",
    "    k=5,\n",
    "    user_features=user_features,\n",
    "    num_threads=num_threads,\n",
    ").mean()"
   ]
  },
  {
   "cell_type": "code",
   "execution_count": 31,
   "id": "707bb586-efa5-4497-af9f-d76d5094af91",
   "metadata": {},
   "outputs": [
    {
     "name": "stdout",
     "output_type": "stream",
     "text": [
      "CPU times: user 19min 30s, sys: 1.97 s, total: 19min 32s\n",
      "Wall time: 2min\n"
     ]
    },
    {
     "data": {
      "text/plain": [
       "0.17024226"
      ]
     },
     "execution_count": 31,
     "metadata": {},
     "output_type": "execute_result"
    }
   ],
   "source": [
    "%%time\n",
    "precision_at_k(\n",
    "    model,\n",
    "    test_interactions,\n",
    "    train_interactions,\n",
    "    k=10,\n",
    "    user_features=user_features,\n",
    "    num_threads=num_threads,\n",
    ").mean()"
   ]
  },
  {
   "cell_type": "code",
   "execution_count": 32,
   "id": "b83006b4-5f37-44dc-b78c-89f4a5c35c4b",
   "metadata": {},
   "outputs": [
    {
     "name": "stdout",
     "output_type": "stream",
     "text": [
      "CPU times: user 19min 29s, sys: 2.48 s, total: 19min 32s\n",
      "Wall time: 2min 9s\n"
     ]
    },
    {
     "data": {
      "text/plain": [
       "0.3338196"
      ]
     },
     "execution_count": 32,
     "metadata": {},
     "output_type": "execute_result"
    }
   ],
   "source": [
    "%%time\n",
    "reciprocal_rank(\n",
    "    model,\n",
    "    test_interactions,\n",
    "    train_interactions,\n",
    "    user_features=user_features,\n",
    "    num_threads=num_threads,\n",
    ").mean()"
   ]
  },
  {
   "cell_type": "code",
   "execution_count": 33,
   "id": "d1b3df4a-287b-443c-a904-9293de9911a8",
   "metadata": {},
   "outputs": [
    {
     "name": "stdout",
     "output_type": "stream",
     "text": [
      "CPU times: user 19min 36s, sys: 1.84 s, total: 19min 38s\n",
      "Wall time: 2min 9s\n"
     ]
    },
    {
     "data": {
      "text/plain": [
       "0.7942246"
      ]
     },
     "execution_count": 33,
     "metadata": {},
     "output_type": "execute_result"
    }
   ],
   "source": [
    "%%time\n",
    "auc_score(\n",
    "    model,\n",
    "    test_interactions,\n",
    "    train_interactions,\n",
    "    user_features=user_features,\n",
    "    num_threads=num_threads,\n",
    ").mean()"
   ]
  },
  {
   "cell_type": "code",
   "execution_count": null,
   "id": "ac28de93-e819-4ab8-8e01-9f8fc1c4e80d",
   "metadata": {},
   "outputs": [],
   "source": []
  }
 ],
 "metadata": {
  "kernelspec": {
   "display_name": "Python 3 (ipykernel)",
   "language": "python",
   "name": "python3"
  },
  "language_info": {
   "codemirror_mode": {
    "name": "ipython",
    "version": 3
   },
   "file_extension": ".py",
   "mimetype": "text/x-python",
   "name": "python",
   "nbconvert_exporter": "python",
   "pygments_lexer": "ipython3",
   "version": "3.8.10"
  }
 },
 "nbformat": 4,
 "nbformat_minor": 5
}
