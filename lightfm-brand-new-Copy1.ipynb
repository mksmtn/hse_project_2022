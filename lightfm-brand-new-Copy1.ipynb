{
 "cells": [
  {
   "cell_type": "code",
   "execution_count": 1,
   "id": "7a353905-7b34-4897-b92b-f1960ffefac2",
   "metadata": {},
   "outputs": [],
   "source": [
    "import numpy as np\n",
    "from lightfm.data import Dataset\n",
    "from lightfm.evaluation import auc_score, precision_at_k, recall_at_k, reciprocal_rank\n",
    "from lightfm.cross_validation import random_train_test_split\n",
    "from lightfm import LightFM\n",
    "import pandas as pd\n",
    "import dask.dataframe as dd\n",
    "import dask.array as da\n",
    "import dask.bag as db\n",
    "from dask_ml.model_selection import train_test_split\n",
    "import pickle"
   ]
  },
  {
   "cell_type": "code",
   "execution_count": 2,
   "id": "efc3d162-1089-48ed-ae8a-e079a87607f8",
   "metadata": {},
   "outputs": [
    {
     "data": {
      "text/plain": [
       "user_id          120322\n",
       "country           55186\n",
       "age              120322\n",
       "gender           120110\n",
       "creation_time    120322\n",
       "dtype: int64"
      ]
     },
     "execution_count": 2,
     "metadata": {},
     "output_type": "execute_result"
    }
   ],
   "source": [
    "users = dd.read_csv('lfm-b2/users.tsv', sep='\\t')\n",
    "users.count().compute()"
   ]
  },
  {
   "cell_type": "code",
   "execution_count": 3,
   "id": "ca0f717c-7e74-4d0b-af28-7982dce21217",
   "metadata": {},
   "outputs": [],
   "source": [
    "users = users.sample(frac=0.002, random_state=42)\n",
    "user_ids = users['user_id'].to_dask_array(True)"
   ]
  },
  {
   "cell_type": "code",
   "execution_count": 4,
   "id": "b7737f48-13b3-4061-903f-9865ff2e0f21",
   "metadata": {},
   "outputs": [
    {
     "data": {
      "text/html": [
       "<div>\n",
       "<style scoped>\n",
       "    .dataframe tbody tr th:only-of-type {\n",
       "        vertical-align: middle;\n",
       "    }\n",
       "\n",
       "    .dataframe tbody tr th {\n",
       "        vertical-align: top;\n",
       "    }\n",
       "\n",
       "    .dataframe thead th {\n",
       "        text-align: right;\n",
       "    }\n",
       "</style>\n",
       "<table border=\"1\" class=\"dataframe\">\n",
       "  <thead>\n",
       "    <tr style=\"text-align: right;\">\n",
       "      <th></th>\n",
       "      <th>user_id</th>\n",
       "      <th>country</th>\n",
       "      <th>age</th>\n",
       "      <th>gender</th>\n",
       "      <th>creation_time</th>\n",
       "    </tr>\n",
       "  </thead>\n",
       "  <tbody>\n",
       "    <tr>\n",
       "      <th>113847</th>\n",
       "      <td>113847</td>\n",
       "      <td>US</td>\n",
       "      <td>44</td>\n",
       "      <td>m</td>\n",
       "      <td>2012-05-07 16:17:46</td>\n",
       "    </tr>\n",
       "    <tr>\n",
       "      <th>116210</th>\n",
       "      <td>116210</td>\n",
       "      <td>NaN</td>\n",
       "      <td>-1</td>\n",
       "      <td>n</td>\n",
       "      <td>2012-05-13 15:42:46</td>\n",
       "    </tr>\n",
       "    <tr>\n",
       "      <th>92895</th>\n",
       "      <td>92895</td>\n",
       "      <td>NaN</td>\n",
       "      <td>-1</td>\n",
       "      <td>n</td>\n",
       "      <td>2012-03-02 05:15:09</td>\n",
       "    </tr>\n",
       "    <tr>\n",
       "      <th>65264</th>\n",
       "      <td>65264</td>\n",
       "      <td>NaN</td>\n",
       "      <td>-1</td>\n",
       "      <td>n</td>\n",
       "      <td>2011-05-10 21:49:13</td>\n",
       "    </tr>\n",
       "    <tr>\n",
       "      <th>91135</th>\n",
       "      <td>91135</td>\n",
       "      <td>UA</td>\n",
       "      <td>-1</td>\n",
       "      <td>m</td>\n",
       "      <td>2012-02-22 12:38:47</td>\n",
       "    </tr>\n",
       "  </tbody>\n",
       "</table>\n",
       "</div>"
      ],
      "text/plain": [
       "        user_id country  age gender        creation_time\n",
       "113847   113847      US   44      m  2012-05-07 16:17:46\n",
       "116210   116210     NaN   -1      n  2012-05-13 15:42:46\n",
       "92895     92895     NaN   -1      n  2012-03-02 05:15:09\n",
       "65264     65264     NaN   -1      n  2011-05-10 21:49:13\n",
       "91135     91135      UA   -1      m  2012-02-22 12:38:47"
      ]
     },
     "execution_count": 4,
     "metadata": {},
     "output_type": "execute_result"
    }
   ],
   "source": [
    "users.head()"
   ]
  },
  {
   "cell_type": "code",
   "execution_count": 5,
   "id": "f80b0932-e88d-4010-a70b-a107a1f46576",
   "metadata": {},
   "outputs": [
    {
     "data": {
      "text/plain": [
       "0      m\n",
       "1      n\n",
       "2      f\n",
       "3    NaN\n",
       "Name: gender, dtype: object"
      ]
     },
     "execution_count": 5,
     "metadata": {},
     "output_type": "execute_result"
    }
   ],
   "source": [
    "genders = users['gender'].unique()\n",
    "genders.compute()"
   ]
  },
  {
   "cell_type": "code",
   "execution_count": 6,
   "id": "616988b2-fee2-4154-aebc-e2cc9fa74149",
   "metadata": {},
   "outputs": [],
   "source": [
    "users['gender'] = users['gender'].fillna('n')"
   ]
  },
  {
   "cell_type": "code",
   "execution_count": 7,
   "id": "ad3bfa5f-0892-4807-a85f-9857fa4f50e3",
   "metadata": {},
   "outputs": [
    {
     "data": {
      "text/plain": [
       "0    m\n",
       "1    n\n",
       "2    f\n",
       "Name: gender, dtype: object"
      ]
     },
     "execution_count": 7,
     "metadata": {},
     "output_type": "execute_result"
    }
   ],
   "source": [
    "users['gender'].unique().compute()"
   ]
  },
  {
   "cell_type": "code",
   "execution_count": 8,
   "id": "f09f3fd9-575f-462e-a4f9-5261a858bca6",
   "metadata": {},
   "outputs": [
    {
     "data": {
      "text/plain": [
       "0      US\n",
       "1     NaN\n",
       "2      UA\n",
       "3      RU\n",
       "4      ES\n",
       "5      JP\n",
       "6      IT\n",
       "7      DE\n",
       "8      FR\n",
       "9      UK\n",
       "10     NO\n",
       "11     SE\n",
       "12     AU\n",
       "13     NL\n",
       "14     RO\n",
       "15     PL\n",
       "16     IR\n",
       "17     TR\n",
       "18     CA\n",
       "19     BR\n",
       "20     DK\n",
       "21     BE\n",
       "22     FI\n",
       "23     TV\n",
       "24     MX\n",
       "25     CZ\n",
       "26     ID\n",
       "27     ME\n",
       "Name: country, dtype: object"
      ]
     },
     "execution_count": 8,
     "metadata": {},
     "output_type": "execute_result"
    }
   ],
   "source": [
    "countries = users['country'].unique()\n",
    "countries.compute()"
   ]
  },
  {
   "cell_type": "code",
   "execution_count": 9,
   "id": "308a4922-3874-4297-9209-315fa73d92e0",
   "metadata": {},
   "outputs": [],
   "source": [
    "listening_counts = dd.read_csv('lfm-b2/listening-counts.tsv', sep='\\t')\n",
    "listening_counts = listening_counts[listening_counts['user_id'].isin(user_ids)]"
   ]
  },
  {
   "cell_type": "code",
   "execution_count": 10,
   "id": "cd9f2491-6989-4f77-b932-dd118af14d70",
   "metadata": {},
   "outputs": [
    {
     "data": {
      "text/html": [
       "<div>\n",
       "<style scoped>\n",
       "    .dataframe tbody tr th:only-of-type {\n",
       "        vertical-align: middle;\n",
       "    }\n",
       "\n",
       "    .dataframe tbody tr th {\n",
       "        vertical-align: top;\n",
       "    }\n",
       "\n",
       "    .dataframe thead th {\n",
       "        text-align: right;\n",
       "    }\n",
       "</style>\n",
       "<table border=\"1\" class=\"dataframe\">\n",
       "  <thead>\n",
       "    <tr style=\"text-align: right;\">\n",
       "      <th></th>\n",
       "      <th>user_id</th>\n",
       "      <th>track_id</th>\n",
       "      <th>count</th>\n",
       "    </tr>\n",
       "  </thead>\n",
       "  <tbody>\n",
       "    <tr>\n",
       "      <th>1749589</th>\n",
       "      <td>20981</td>\n",
       "      <td>17852200</td>\n",
       "      <td>3</td>\n",
       "    </tr>\n",
       "    <tr>\n",
       "      <th>1749590</th>\n",
       "      <td>20981</td>\n",
       "      <td>47207788</td>\n",
       "      <td>1</td>\n",
       "    </tr>\n",
       "    <tr>\n",
       "      <th>1749591</th>\n",
       "      <td>20981</td>\n",
       "      <td>25391108</td>\n",
       "      <td>1</td>\n",
       "    </tr>\n",
       "    <tr>\n",
       "      <th>1749592</th>\n",
       "      <td>20981</td>\n",
       "      <td>37278939</td>\n",
       "      <td>1</td>\n",
       "    </tr>\n",
       "    <tr>\n",
       "      <th>1749593</th>\n",
       "      <td>20981</td>\n",
       "      <td>40530567</td>\n",
       "      <td>1</td>\n",
       "    </tr>\n",
       "  </tbody>\n",
       "</table>\n",
       "</div>"
      ],
      "text/plain": [
       "         user_id  track_id  count\n",
       "1749589    20981  17852200      3\n",
       "1749590    20981  47207788      1\n",
       "1749591    20981  25391108      1\n",
       "1749592    20981  37278939      1\n",
       "1749593    20981  40530567      1"
      ]
     },
     "execution_count": 10,
     "metadata": {},
     "output_type": "execute_result"
    }
   ],
   "source": [
    "listening_counts.head()"
   ]
  },
  {
   "cell_type": "code",
   "execution_count": 11,
   "id": "b3efd7be-7eeb-4277-97fb-4fa359b6f500",
   "metadata": {},
   "outputs": [],
   "source": [
    "all_user_features = [\n",
    "  *countries,\n",
    "  *genders,\n",
    "]"
   ]
  },
  {
   "cell_type": "code",
   "execution_count": 12,
   "id": "a282dbfa-0486-409c-955c-344f4f484221",
   "metadata": {},
   "outputs": [],
   "source": [
    "dataset = Dataset()\n",
    "dataset.fit(listening_counts.user_id, listening_counts.track_id, user_features=all_user_features)"
   ]
  },
  {
   "cell_type": "code",
   "execution_count": 13,
   "id": "0285e557-e0d7-49d8-a738-dd1c50cd2372",
   "metadata": {},
   "outputs": [],
   "source": [
    "(interactions, weights) = dataset.build_interactions(listening_counts.itertuples(False, None))"
   ]
  },
  {
   "cell_type": "code",
   "execution_count": 14,
   "id": "8736d2eb-c4f2-49af-ac01-8760d238e9e2",
   "metadata": {},
   "outputs": [
    {
     "name": "stdout",
     "output_type": "stream",
     "text": [
      "Num users: 241, Num items 597086.\n"
     ]
    }
   ],
   "source": [
    "num_users, num_items = dataset.interactions_shape()\n",
    "print('Num users: {}, Num items {}.'.format(num_users, num_items))"
   ]
  },
  {
   "cell_type": "code",
   "execution_count": 15,
   "id": "c986b180-91ec-4a7a-8e5b-a0659db8f717",
   "metadata": {},
   "outputs": [],
   "source": [
    "user_features = dataset.build_user_features([(x[0], [x[1], x[3]]) for x in users.itertuples(False, None)])"
   ]
  },
  {
   "cell_type": "code",
   "execution_count": 16,
   "id": "7649f62b-3847-40de-b9f6-3b4c427f981c",
   "metadata": {},
   "outputs": [],
   "source": [
    "(train_interactions, test_interactions) = random_train_test_split(interactions, random_state=42)"
   ]
  },
  {
   "cell_type": "code",
   "execution_count": 17,
   "id": "5d6775fb-584d-49cf-b39d-6bef172278b6",
   "metadata": {},
   "outputs": [
    {
     "data": {
      "text/plain": [
       "<lightfm.lightfm.LightFM at 0x7f1f6f0b3850>"
      ]
     },
     "execution_count": 17,
     "metadata": {},
     "output_type": "execute_result"
    }
   ],
   "source": [
    "model = LightFM(loss='warp')\n",
    "model.fit(train_interactions, user_features=user_features)"
   ]
  },
  {
   "cell_type": "code",
   "execution_count": 18,
   "id": "141664f0-b1ae-468e-aedc-dc4a9bddddc6",
   "metadata": {},
   "outputs": [
    {
     "data": {
      "text/plain": [
       "0.5026315"
      ]
     },
     "execution_count": 18,
     "metadata": {},
     "output_type": "execute_result"
    }
   ],
   "source": [
    "auc_score(model, test_interactions, train_interactions, user_features=user_features, num_threads=2).mean()"
   ]
  },
  {
   "cell_type": "code",
   "execution_count": 19,
   "id": "1d1f4e06-6a89-43d0-9fc6-9d7cb0de9a27",
   "metadata": {},
   "outputs": [
    {
     "data": {
      "text/plain": [
       "0.055186722"
      ]
     },
     "execution_count": 19,
     "metadata": {},
     "output_type": "execute_result"
    }
   ],
   "source": [
    "precision_at_k(model, test_interactions, train_interactions, user_features=user_features, num_threads=2).mean()"
   ]
  },
  {
   "cell_type": "code",
   "execution_count": 20,
   "id": "d9146445-a808-426b-8464-7d1c7fc46af6",
   "metadata": {},
   "outputs": [
    {
     "data": {
      "text/plain": [
       "0.0022587719603890037"
      ]
     },
     "execution_count": 20,
     "metadata": {},
     "output_type": "execute_result"
    }
   ],
   "source": [
    "recall_at_k(model, test_interactions, train_interactions, user_features=user_features, num_threads=2).mean()"
   ]
  },
  {
   "cell_type": "code",
   "execution_count": 21,
   "id": "b83006b4-5f37-44dc-b78c-89f4a5c35c4b",
   "metadata": {},
   "outputs": [
    {
     "data": {
      "text/plain": [
       "0.1634656"
      ]
     },
     "execution_count": 21,
     "metadata": {},
     "output_type": "execute_result"
    }
   ],
   "source": [
    "reciprocal_rank(model, test_interactions, train_interactions, user_features=user_features, num_threads=2).mean()"
   ]
  }
 ],
 "metadata": {
  "kernelspec": {
   "display_name": "Python 3 (ipykernel)",
   "language": "python",
   "name": "python3"
  },
  "language_info": {
   "codemirror_mode": {
    "name": "ipython",
    "version": 3
   },
   "file_extension": ".py",
   "mimetype": "text/x-python",
   "name": "python",
   "nbconvert_exporter": "python",
   "pygments_lexer": "ipython3",
   "version": "3.8.10"
  }
 },
 "nbformat": 4,
 "nbformat_minor": 5
}
