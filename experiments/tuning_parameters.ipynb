{
  "nbformat": 4,
  "nbformat_minor": 0,
  "metadata": {
    "colab": {
      "provenance": []
    },
    "kernelspec": {
      "name": "python3",
      "display_name": "Python 3"
    },
    "language_info": {
      "name": "python"
    }
  },
  "cells": [
    {
      "cell_type": "code",
      "execution_count": 1,
      "metadata": {
        "colab": {
          "base_uri": "https://localhost:8080/"
        },
        "id": "9Kjd--rWbC3S",
        "outputId": "7695ec57-89dc-41a6-8282-9aa365600393"
      },
      "outputs": [
        {
          "output_type": "stream",
          "name": "stdout",
          "text": [
            "Looking in indexes: https://pypi.org/simple, https://us-python.pkg.dev/colab-wheels/public/simple/\n",
            "Collecting lightfm\n",
            "  Downloading lightfm-1.16.tar.gz (310 kB)\n",
            "\u001b[2K     \u001b[90m━━━━━━━━━━━━━━━━━━━━━━━━━━━━━━━━━━━━━━━\u001b[0m \u001b[32m310.1/310.1 KB\u001b[0m \u001b[31m7.3 MB/s\u001b[0m eta \u001b[36m0:00:00\u001b[0m\n",
            "\u001b[?25h  Preparing metadata (setup.py) ... \u001b[?25l\u001b[?25hdone\n",
            "Requirement already satisfied: numpy in /usr/local/lib/python3.8/dist-packages (from lightfm) (1.22.4)\n",
            "Requirement already satisfied: scipy>=0.17.0 in /usr/local/lib/python3.8/dist-packages (from lightfm) (1.7.3)\n",
            "Requirement already satisfied: requests in /usr/local/lib/python3.8/dist-packages (from lightfm) (2.25.1)\n",
            "Requirement already satisfied: scikit-learn in /usr/local/lib/python3.8/dist-packages (from lightfm) (1.0.2)\n",
            "Requirement already satisfied: urllib3<1.27,>=1.21.1 in /usr/local/lib/python3.8/dist-packages (from requests->lightfm) (1.26.14)\n",
            "Requirement already satisfied: chardet<5,>=3.0.2 in /usr/local/lib/python3.8/dist-packages (from requests->lightfm) (4.0.0)\n",
            "Requirement already satisfied: idna<3,>=2.5 in /usr/local/lib/python3.8/dist-packages (from requests->lightfm) (2.10)\n",
            "Requirement already satisfied: certifi>=2017.4.17 in /usr/local/lib/python3.8/dist-packages (from requests->lightfm) (2022.12.7)\n",
            "Requirement already satisfied: joblib>=0.11 in /usr/local/lib/python3.8/dist-packages (from scikit-learn->lightfm) (1.2.0)\n",
            "Requirement already satisfied: threadpoolctl>=2.0.0 in /usr/local/lib/python3.8/dist-packages (from scikit-learn->lightfm) (3.1.0)\n",
            "Building wheels for collected packages: lightfm\n",
            "  Building wheel for lightfm (setup.py) ... \u001b[?25l\u001b[?25hdone\n",
            "  Created wheel for lightfm: filename=lightfm-1.16-cp38-cp38-linux_x86_64.whl size=899847 sha256=bd3ce0bcb427833b99d897df0873b2f4105bf1eac4bca2e457256c2b091faa9d\n",
            "  Stored in directory: /root/.cache/pip/wheels/ec/bb/51/9c487d021c1373b691d13cadca0b65b6852627b1f3f43550fa\n",
            "Successfully built lightfm\n",
            "Installing collected packages: lightfm\n",
            "Successfully installed lightfm-1.16\n"
          ]
        }
      ],
      "source": [
        "!pip install lightfm\n",
        "import pandas as pd\n",
        "import numpy as np\n",
        "import pickle\n",
        "from scipy.sparse import csr_matrix\n",
        "from scipy.sparse.linalg import svds\n",
        "from sklearn.model_selection import train_test_split\n",
        "import random\n",
        "from tqdm.notebook import tqdm\n",
        "import json\n",
        "from lightfm.data import Dataset\n",
        "from lightfm.evaluation import auc_score, precision_at_k, recall_at_k, reciprocal_rank\n",
        "from lightfm.cross_validation import random_train_test_split\n",
        "from lightfm import LightFM\n",
        "import dask.dataframe as dd\n"
      ]
    },
    {
      "cell_type": "code",
      "source": [
        "from google.colab import drive\n",
        "\n",
        "drive.mount('/content/gdrive/', force_remount=True)"
      ],
      "metadata": {
        "colab": {
          "base_uri": "https://localhost:8080/"
        },
        "id": "SdQrPMMIbht_",
        "outputId": "7b2c0825-4e14-4d29-87e4-cc58b7e72268"
      },
      "execution_count": 2,
      "outputs": [
        {
          "output_type": "stream",
          "name": "stdout",
          "text": [
            "Mounted at /content/gdrive/\n"
          ]
        }
      ]
    },
    {
      "cell_type": "code",
      "source": [
        "small_df = pd.read_csv('/content/gdrive/MyDrive/Colab Notebooks/rec sys/2000x3000.csv')\n",
        "small_df = small_df.drop(columns=['rating'])"
      ],
      "metadata": {
        "id": "X4A04tupbvA_"
      },
      "execution_count": 5,
      "outputs": []
    },
    {
      "cell_type": "code",
      "source": [
        "dataset = Dataset()\n",
        "%time\n",
        "dataset.fit(small_df.user_id, small_df.track_id)"
      ],
      "metadata": {
        "colab": {
          "base_uri": "https://localhost:8080/"
        },
        "id": "vqO-KhpHb62d",
        "outputId": "e68c23c8-8355-4156-b035-c8a206142fc5"
      },
      "execution_count": 10,
      "outputs": [
        {
          "output_type": "stream",
          "name": "stdout",
          "text": [
            "CPU times: user 16 µs, sys: 0 ns, total: 16 µs\n",
            "Wall time: 28.6 µs\n"
          ]
        }
      ]
    },
    {
      "cell_type": "code",
      "source": [
        "(interactions, weights) = dataset.build_interactions(small_df.itertuples(False, None))"
      ],
      "metadata": {
        "id": "3bwbjn9lcpi7"
      },
      "execution_count": 11,
      "outputs": []
    },
    {
      "cell_type": "code",
      "source": [
        "num_users, num_items = dataset.interactions_shape()\n",
        "print('Num users: {}, Num items {}.'.format(num_users, num_items))"
      ],
      "metadata": {
        "colab": {
          "base_uri": "https://localhost:8080/"
        },
        "id": "olJRhNQ8daCq",
        "outputId": "af5c478d-1b4a-4c71-f4ef-1a74e8ca9497"
      },
      "execution_count": 12,
      "outputs": [
        {
          "output_type": "stream",
          "name": "stdout",
          "text": [
            "Num users: 1939, Num items 3000.\n"
          ]
        }
      ]
    },
    {
      "cell_type": "code",
      "source": [
        "(train_interactions, test_interactions) = random_train_test_split(\n",
        "    interactions,\n",
        "    test_percentage=0.2,\n",
        "    random_state=42,\n",
        ")\n",
        "\n",
        "(train_weights, test_weights) = random_train_test_split(\n",
        "    weights,\n",
        "    test_percentage=0.2,\n",
        "    random_state=42,\n",
        ")"
      ],
      "metadata": {
        "id": "Q2arpo48dpLB"
      },
      "execution_count": 13,
      "outputs": []
    },
    {
      "cell_type": "code",
      "source": [
        "results = []\n",
        "max_pr_iter = -1\n",
        "max_pr = 0\n",
        "max_rc_iter = -1\n",
        "max_rc = 0\n",
        "\n",
        "for i in range(20):\n",
        "  parameters = {\n",
        "            \"no_components\": np.random.randint(16, 64),\n",
        "            \"learning_schedule\": np.random.choice([\"adagrad\", \"adadelta\"]),\n",
        "            \"loss\": np.random.choice([\"bpr\", \"warp\"]),\n",
        "            \"learning_rate\": np.random.exponential(0.05),\n",
        "            \"item_alpha\": np.random.exponential(1e-8),\n",
        "            \"user_alpha\": np.random.exponential(1e-8),\n",
        "            \"max_sampled\": np.random.randint(5, 15),\n",
        "            \"num_epochs\": np.random.randint(5, 50),\n",
        "        }\n",
        "  num_epochs = parameters.pop(\"num_epochs\")\n",
        "  model = LightFM(**parameters)\n",
        "  model.fit(train_interactions, \n",
        "            sample_weight=train_weights, \n",
        "            epochs=num_epochs,\n",
        "            num_threads=12,\n",
        "            verbose=True)\n",
        "  \n",
        "  parameters['num_epochs'] = num_epochs\n",
        "  recall_at_10 = recall_at_k(\n",
        "    model,\n",
        "    test_interactions,\n",
        "    train_interactions,\n",
        "    k=10,\n",
        "    num_threads=12,\n",
        "    ).mean()\n",
        "  precision_at_10 = precision_at_k(\n",
        "    model,\n",
        "    test_interactions,\n",
        "    train_interactions,\n",
        "    k=10,\n",
        "    num_threads=12,\n",
        "    ).mean()\n",
        "  if precision_at_10 > max_pr:\n",
        "    max_pr = precision_at_10\n",
        "    max_pr_iter = i\n",
        "    print(f'precision on {i}: {precision_at_10}')\n",
        "  if recall_at_10 > max_rc:\n",
        "    max_rc = recall_at_10\n",
        "    max_rc_iter = i\n",
        "    print(f'recall on {i}: {recall_at_10}')\n",
        "  parameters['precision_at_10'] = precision_at_10\n",
        "  parameters['recall_at_10'] = recall_at_10\n",
        "  results.append(parameters)"
      ],
      "metadata": {
        "colab": {
          "base_uri": "https://localhost:8080/"
        },
        "id": "FBX2W2N4dr10",
        "outputId": "402b6853-5c5d-4a04-cad3-3505e123cec7"
      },
      "execution_count": 22,
      "outputs": [
        {
          "output_type": "stream",
          "name": "stderr",
          "text": [
            "Epoch: 100%|██████████| 11/11 [00:12<00:00,  1.17s/it]\n"
          ]
        },
        {
          "output_type": "stream",
          "name": "stdout",
          "text": [
            "precision on 0: 0.3359854221343994\n",
            "recall on 0: 0.07228603661501405\n"
          ]
        },
        {
          "output_type": "stream",
          "name": "stderr",
          "text": [
            "Epoch: 100%|██████████| 31/31 [00:13<00:00,  2.29it/s]\n",
            "Epoch: 100%|██████████| 28/28 [00:19<00:00,  1.40it/s]\n",
            "Epoch: 100%|██████████| 48/48 [00:33<00:00,  1.42it/s]\n"
          ]
        },
        {
          "output_type": "stream",
          "name": "stdout",
          "text": [
            "precision on 3: 0.44128963351249695\n",
            "recall on 3: 0.11131614566973143\n"
          ]
        },
        {
          "output_type": "stream",
          "name": "stderr",
          "text": [
            "Epoch: 100%|██████████| 16/16 [00:06<00:00,  2.34it/s]\n",
            "Epoch: 100%|██████████| 41/41 [00:31<00:00,  1.30it/s]\n",
            "Epoch: 100%|██████████| 15/15 [00:10<00:00,  1.40it/s]\n",
            "Epoch: 100%|██████████| 19/19 [00:20<00:00,  1.07s/it]\n",
            "Epoch: 100%|██████████| 39/39 [00:29<00:00,  1.34it/s]\n"
          ]
        },
        {
          "output_type": "stream",
          "name": "stdout",
          "text": [
            "precision on 8: 0.44134166836738586\n"
          ]
        },
        {
          "output_type": "stream",
          "name": "stderr",
          "text": [
            "Epoch: 100%|██████████| 48/48 [00:32<00:00,  1.47it/s]\n",
            "Epoch: 100%|██████████| 27/27 [00:24<00:00,  1.12it/s]\n",
            "Epoch: 100%|██████████| 24/24 [00:09<00:00,  2.64it/s]\n",
            "Epoch: 100%|██████████| 40/40 [00:35<00:00,  1.13it/s]\n",
            "Epoch: 100%|██████████| 47/47 [01:00<00:00,  1.29s/it]\n"
          ]
        },
        {
          "output_type": "stream",
          "name": "stdout",
          "text": [
            "precision on 13: 0.44321373105049133\n",
            "recall on 13: 0.11928828267024827\n"
          ]
        },
        {
          "output_type": "stream",
          "name": "stderr",
          "text": [
            "Epoch: 100%|██████████| 20/20 [00:12<00:00,  1.59it/s]\n",
            "Epoch: 100%|██████████| 47/47 [00:24<00:00,  1.91it/s]\n",
            "Epoch: 100%|██████████| 46/46 [00:44<00:00,  1.03it/s]\n",
            "Epoch: 100%|██████████| 42/42 [00:25<00:00,  1.62it/s]\n",
            "Epoch: 100%|██████████| 10/10 [00:04<00:00,  2.45it/s]\n",
            "Epoch: 100%|██████████| 13/13 [00:13<00:00,  1.01s/it]\n"
          ]
        }
      ]
    },
    {
      "cell_type": "code",
      "source": [
        "results[13]"
      ],
      "metadata": {
        "colab": {
          "base_uri": "https://localhost:8080/"
        },
        "id": "B0YWHcOueLqp",
        "outputId": "eadfef65-897f-4b30-fd93-e909bcbf5ccf"
      },
      "execution_count": 23,
      "outputs": [
        {
          "output_type": "execute_result",
          "data": {
            "text/plain": [
              "{'no_components': 58,\n",
              " 'learning_schedule': 'adadelta',\n",
              " 'loss': 'warp',\n",
              " 'learning_rate': 0.0035804710258826042,\n",
              " 'item_alpha': 3.801716649932694e-08,\n",
              " 'user_alpha': 3.3596022700403683e-09,\n",
              " 'max_sampled': 14,\n",
              " 'num_epochs': 47,\n",
              " 'precision_at_10': 0.44321373,\n",
              " 'recall_at_10': 0.11928828267024827}"
            ]
          },
          "metadata": {},
          "execution_count": 23
        }
      ]
    },
    {
      "cell_type": "code",
      "source": [
        "results[3]"
      ],
      "metadata": {
        "colab": {
          "base_uri": "https://localhost:8080/"
        },
        "id": "sUclFTkai9IS",
        "outputId": "1d9605ff-ca73-49f5-b102-f3ed78976f3e"
      },
      "execution_count": 24,
      "outputs": [
        {
          "output_type": "execute_result",
          "data": {
            "text/plain": [
              "{'no_components': 25,\n",
              " 'learning_schedule': 'adadelta',\n",
              " 'loss': 'warp',\n",
              " 'learning_rate': 0.03462561685987776,\n",
              " 'item_alpha': 4.974513184134289e-09,\n",
              " 'user_alpha': 7.970484330607579e-09,\n",
              " 'max_sampled': 14,\n",
              " 'num_epochs': 48,\n",
              " 'precision_at_10': 0.44128963,\n",
              " 'recall_at_10': 0.11131614566973143}"
            ]
          },
          "metadata": {},
          "execution_count": 24
        }
      ]
    }
  ]
}