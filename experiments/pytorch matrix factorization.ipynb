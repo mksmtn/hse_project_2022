{
 "cells": [
  {
   "cell_type": "code",
   "execution_count": 4,
   "metadata": {
    "executionInfo": {
     "elapsed": 6645,
     "status": "ok",
     "timestamp": 1684668683358,
     "user": {
      "displayName": "Илья Комутков",
      "userId": "17011463244539239996"
     },
     "user_tz": -240
    },
    "id": "ykCryd1WmyV5"
   },
   "outputs": [],
   "source": [
    "import pandas as pd\n",
    "import numpy as np\n",
    "import pickle\n",
    "import torch\n",
    "import torch.nn as nn\n",
    "import torch.nn.functional as F\n",
    "from sklearn.model_selection import train_test_split"
   ]
  },
  {
   "cell_type": "code",
   "execution_count": 5,
   "metadata": {
    "executionInfo": {
     "elapsed": 1846,
     "status": "ok",
     "timestamp": 1684668706720,
     "user": {
      "displayName": "Илья Комутков",
      "userId": "17011463244539239996"
     },
     "user_tz": -240
    },
    "id": "4K1movhmrWJa"
   },
   "outputs": [],
   "source": [
    "ratings_df = pd.read_csv('subsample.csv')"
   ]
  },
  {
   "cell_type": "code",
   "execution_count": 6,
   "metadata": {
    "executionInfo": {
     "elapsed": 9797,
     "status": "ok",
     "timestamp": 1684668738019,
     "user": {
      "displayName": "Илья Комутков",
      "userId": "17011463244539239996"
     },
     "user_tz": -240
    },
    "id": "bB2I4GXQ_d-b"
   },
   "outputs": [],
   "source": [
    "user_map = {id: i for i, id in enumerate(ratings_df.user_id.unique())}\n",
    "track_map = {id: i for i, id in enumerate(ratings_df.track_id.unique())}\n",
    "\n",
    "ratings_df['user_id'] = ratings_df['user_id'].replace(user_map)\n",
    "ratings_df['track_id'] = ratings_df['track_id'].replace(track_map)"
   ]
  },
  {
   "cell_type": "code",
   "execution_count": 7,
   "metadata": {
    "colab": {
     "base_uri": "https://localhost:8080/"
    },
    "executionInfo": {
     "elapsed": 1017,
     "status": "ok",
     "timestamp": 1684668740564,
     "user": {
      "displayName": "Илья Комутков",
      "userId": "17011463244539239996"
     },
     "user_tz": -240
    },
    "id": "mS_cmsAmrfZs",
    "outputId": "83c3f056-db87-41bb-de2e-80b19649a074"
   },
   "outputs": [
    {
     "name": "stdout",
     "output_type": "stream",
     "text": [
      "# interactions on Train set: 499252\n",
      "# interactions on Test set: 124813\n"
     ]
    }
   ],
   "source": [
    "ratings_df_train, ratings_df_test = train_test_split(ratings_df,\n",
    "                                   stratify=ratings_df['user_id'], \n",
    "                                   test_size=0.20,\n",
    "                                   random_state=42)\n",
    "\n",
    "print('# interactions on Train set: %d' % len(ratings_df_train))\n",
    "print('# interactions on Test set: %d' % len(ratings_df_test))"
   ]
  },
  {
   "cell_type": "code",
   "execution_count": 6,
   "metadata": {
    "colab": {
     "base_uri": "https://localhost:8080/"
    },
    "executionInfo": {
     "elapsed": 1227,
     "status": "ok",
     "timestamp": 1684668750607,
     "user": {
      "displayName": "Илья Комутков",
      "userId": "17011463244539239996"
     },
     "user_tz": -240
    },
    "id": "D_C51syOhRzJ",
    "outputId": "2f19db54-7982-4d37-8832-37876606bfd1"
   },
   "outputs": [
    {
     "name": "stdout",
     "output_type": "stream",
     "text": [
      "# interactions on Train set: 399401\n",
      "# interactions on Val set: 99851\n"
     ]
    }
   ],
   "source": [
    "train, val = train_test_split(ratings_df_train,\n",
    "                                   stratify=ratings_df_train['user_id'], \n",
    "                                   test_size=0.20,\n",
    "                                   random_state=42)\n",
    "\n",
    "print('# interactions on Train set: %d' % len(train))\n",
    "print('# interactions on Val set: %d' % len(val))"
   ]
  },
  {
   "cell_type": "code",
   "execution_count": 7,
   "metadata": {
    "executionInfo": {
     "elapsed": 421,
     "status": "ok",
     "timestamp": 1684669378059,
     "user": {
      "displayName": "Илья Комутков",
      "userId": "17011463244539239996"
     },
     "user_tz": -240
    },
    "id": "wlx3yqKurjUQ"
   },
   "outputs": [],
   "source": [
    "class MF(nn.Module):\n",
    "    def __init__(self, num_users, num_items, emb_size=100):\n",
    "        super(MF, self).__init__()\n",
    "        self.user_emb = nn.Embedding(num_users, emb_size)\n",
    "        self.item_emb = nn.Embedding(num_items, emb_size)\n",
    "        # initializing our matrices with a positive number generally will yield better results\n",
    "        self.user_emb.weight.data.uniform_(0, 0.5)\n",
    "        self.item_emb.weight.data.uniform_(0, 0.5)\n",
    "    def forward(self, u, v):\n",
    "        u = self.user_emb(u)\n",
    "        v = self.item_emb(v)\n",
    "        return (u*v).sum(1)  # taking the dot product"
   ]
  },
  {
   "cell_type": "markdown",
   "metadata": {
    "id": "TaOTbH9tvT9P"
   },
   "source": [
    "## Подбор лучшей функции потерь"
   ]
  },
  {
   "cell_type": "code",
   "execution_count": 11,
   "metadata": {
    "executionInfo": {
     "elapsed": 525,
     "status": "ok",
     "timestamp": 1684671937766,
     "user": {
      "displayName": "Илья Комутков",
      "userId": "17011463244539239996"
     },
     "user_tz": -240
    },
    "id": "9vlNeiAavLS7"
   },
   "outputs": [],
   "source": [
    "def validation_score(model, val_data, criterion, verbose):\n",
    "    model.eval()\n",
    "    usernames = torch.LongTensor(val_data.user_id.values)\n",
    "    tracks = torch.LongTensor(val_data.track_id.values)\n",
    "    ratings = torch.FloatTensor(val_data['rating'].values)\n",
    "    y_hat = model(usernames, tracks)\n",
    "    loss = criterion(y_hat, ratings)\n",
    "    if verbose:\n",
    "      print(\"val loss %.3f \" % loss.item())\n",
    "    return loss.item()\n",
    "\n",
    "def train_model(model, train_data, val_data, optimizer,\n",
    "                criterion=F.mse_loss, epochs=10, verbose=True):\n",
    "    model.train()\n",
    "    for i in range(epochs):\n",
    "        usernames = torch.LongTensor(train_data.user_id.values)\n",
    "        tracks = torch.LongTensor(train_data.track_id.values)\n",
    "        ratings = torch.FloatTensor(train_data['rating'].values)\n",
    "        y_hat = model(usernames, tracks)\n",
    "        loss = criterion(y_hat, ratings)\n",
    "        optimizer.zero_grad()  # reset gradient\n",
    "        loss.backward()\n",
    "        optimizer.step()\n",
    "        if verbose:\n",
    "          print(\"train loss %.3f \" % loss.item())\n",
    "        val_score = validation_score(model, val_data, criterion, verbose)\n",
    "    return val_score"
   ]
  },
  {
   "cell_type": "code",
   "execution_count": 15,
   "metadata": {
    "executionInfo": {
     "elapsed": 414,
     "status": "ok",
     "timestamp": 1684672295350,
     "user": {
      "displayName": "Илья Комутков",
      "userId": "17011463244539239996"
     },
     "user_tz": -240
    },
    "id": "fV66HoIOEejJ"
   },
   "outputs": [],
   "source": [
    "def validation_score_bce(model, val_data, criterion, verbose):\n",
    "    model.eval()\n",
    "    usernames = torch.LongTensor(val_data.user_id.values)\n",
    "    tracks = torch.LongTensor(val_data.track_id.values)\n",
    "    output_pos = model(usernames, tracks)\n",
    "    output_neg = model(usernames, tracks[torch.randperm(tracks.shape[0])])\n",
    "    accuracy_batch = torch.cat([output_pos.sigmoid() > 0.5, output_neg.sigmoid() < 0.5]).float().mean()\n",
    "    if verbose:\n",
    "      print(\"val accuracy %.3f \" % accuracy_batch)\n",
    "      print(\"pos accuracy %.3f \" % (output_pos.sigmoid() > 0.5).float().mean())\n",
    "      print(\"neg accuracy %.3f \" % (output_neg.sigmoid() < 0.5).float().mean())\n",
    "    return accuracy_batch\n",
    "\n",
    "def train_model_bce(model, train_data, val_data, optimizer,\n",
    "                criterion=nn.BCEWithLogitsLoss(), epochs=10, verbose=True):\n",
    "    model.train()\n",
    "    for i in range(epochs):\n",
    "        usernames = torch.LongTensor(train_data.user_id.values)\n",
    "        tracks = torch.LongTensor(train_data.track_id.values)\n",
    "        \n",
    "        output_pos = model(usernames, tracks)\n",
    "        output_neg = model(usernames, tracks[torch.randperm(tracks.shape[0])])\n",
    "        \n",
    "        output = torch.cat([output_pos, output_neg])\n",
    "        targets = torch.cat([torch.ones_like(output_pos), torch.zeros_like(output_pos)])\n",
    "\n",
    "        loss = criterion(output, targets)\n",
    "        optimizer.zero_grad()  # reset gradient\n",
    "        loss.backward()\n",
    "        optimizer.step()\n",
    "        if verbose:\n",
    "          print(\"train loss %.3f \" % loss.item())\n",
    "        val_score = validation_score_bce(model, val_data, criterion, verbose)\n",
    "    return val_score"
   ]
  },
  {
   "cell_type": "code",
   "execution_count": 10,
   "metadata": {
    "executionInfo": {
     "elapsed": 41,
     "status": "ok",
     "timestamp": 1684671930315,
     "user": {
      "displayName": "Илья Комутков",
      "userId": "17011463244539239996"
     },
     "user_tz": -240
    },
    "id": "BicgV3zZkLxo"
   },
   "outputs": [],
   "source": [
    "n, m = len(ratings_df.user_id.unique()), len(ratings_df.track_id.unique())"
   ]
  },
  {
   "cell_type": "code",
   "execution_count": 12,
   "metadata": {
    "colab": {
     "base_uri": "https://localhost:8080/"
    },
    "executionInfo": {
     "elapsed": 9735,
     "status": "ok",
     "timestamp": 1684671951368,
     "user": {
      "displayName": "Илья Комутков",
      "userId": "17011463244539239996"
     },
     "user_tz": -240
    },
    "id": "yzkxIvwUw3Lc",
    "outputId": "068d1acb-ef45-41f5-af62-0edd99b01e07"
   },
   "outputs": [
    {
     "name": "stdout",
     "output_type": "stream",
     "text": [
      "train loss 38.578 \n",
      "val loss 37.956 \n",
      "train loss 37.961 \n",
      "val loss 37.347 \n",
      "train loss 37.352 \n",
      "val loss 36.745 \n",
      "train loss 36.750 \n",
      "val loss 36.151 \n",
      "train loss 36.156 \n",
      "val loss 35.564 \n",
      "train loss 35.569 \n",
      "val loss 34.986 \n",
      "train loss 34.991 \n",
      "val loss 34.415 \n",
      "train loss 34.421 \n",
      "val loss 33.853 \n",
      "train loss 33.858 \n",
      "val loss 33.298 \n",
      "train loss 33.303 \n",
      "val loss 32.751 \n"
     ]
    },
    {
     "data": {
      "text/plain": [
       "32.751495361328125"
      ]
     },
     "execution_count": 12,
     "metadata": {},
     "output_type": "execute_result"
    }
   ],
   "source": [
    "model = MF(n, m, emb_size=100)\n",
    "optimizer = torch.optim.Adam(model.parameters())\n",
    "train_model(model, train, val, optimizer)"
   ]
  },
  {
   "cell_type": "code",
   "execution_count": 16,
   "metadata": {
    "colab": {
     "base_uri": "https://localhost:8080/"
    },
    "executionInfo": {
     "elapsed": 15640,
     "status": "ok",
     "timestamp": 1684672316315,
     "user": {
      "displayName": "Илья Комутков",
      "userId": "17011463244539239996"
     },
     "user_tz": -240
    },
    "id": "BYguV4-zRc-f",
    "outputId": "8b123129-4608-4706-e797-5936849d5907"
   },
   "outputs": [
    {
     "name": "stdout",
     "output_type": "stream",
     "text": [
      "train loss 3.131 \n",
      "val accuracy 0.500 \n",
      "pos accuracy 1.000 \n",
      "neg accuracy 0.000 \n",
      "train loss 3.106 \n",
      "val accuracy 0.500 \n",
      "pos accuracy 1.000 \n",
      "neg accuracy 0.000 \n",
      "train loss 3.081 \n",
      "val accuracy 0.500 \n",
      "pos accuracy 1.000 \n",
      "neg accuracy 0.000 \n",
      "train loss 3.056 \n",
      "val accuracy 0.500 \n",
      "pos accuracy 1.000 \n",
      "neg accuracy 0.000 \n",
      "train loss 3.032 \n",
      "val accuracy 0.500 \n",
      "pos accuracy 1.000 \n",
      "neg accuracy 0.000 \n",
      "train loss 3.007 \n",
      "val accuracy 0.500 \n",
      "pos accuracy 1.000 \n",
      "neg accuracy 0.000 \n",
      "train loss 2.983 \n",
      "val accuracy 0.500 \n",
      "pos accuracy 1.000 \n",
      "neg accuracy 0.000 \n",
      "train loss 2.959 \n",
      "val accuracy 0.500 \n",
      "pos accuracy 1.000 \n",
      "neg accuracy 0.000 \n",
      "train loss 2.935 \n",
      "val accuracy 0.500 \n",
      "pos accuracy 1.000 \n",
      "neg accuracy 0.000 \n",
      "train loss 2.911 \n",
      "val accuracy 0.500 \n",
      "pos accuracy 1.000 \n",
      "neg accuracy 0.000 \n"
     ]
    },
    {
     "data": {
      "text/plain": [
       "tensor(0.5000)"
      ]
     },
     "execution_count": 16,
     "metadata": {},
     "output_type": "execute_result"
    }
   ],
   "source": [
    "model = MF(n, m, emb_size=100)\n",
    "optimizer = torch.optim.Adam(model.parameters())\n",
    "train_model_bce(model, train, val, optimizer)"
   ]
  },
  {
   "cell_type": "markdown",
   "metadata": {
    "id": "bD_lETMbwaPB"
   },
   "source": [
    "BCELoss вероятно нам не подходит, потому что сигмоида от перемешанных эмбеддингов меньше 0.5, а для не перемешанных больше 0.5. Будем использовать MSELoss."
   ]
  },
  {
   "cell_type": "markdown",
   "metadata": {
    "id": "49NOJovdxKes"
   },
   "source": [
    "## Подбор оптимизатора"
   ]
  },
  {
   "cell_type": "code",
   "execution_count": null,
   "metadata": {
    "colab": {
     "base_uri": "https://localhost:8080/"
    },
    "executionInfo": {
     "elapsed": 9041,
     "status": "ok",
     "timestamp": 1683571644419,
     "user": {
      "displayName": "Илья Комутков",
      "userId": "17011463244539239996"
     },
     "user_tz": -240
    },
    "id": "xIkWueUsoy9Q",
    "outputId": "0f108a1d-cb0f-4215-e871-1a73041cbed0"
   },
   "outputs": [
    {
     "name": "stdout",
     "output_type": "stream",
     "text": [
      "train loss 38.451 \n",
      "val loss 38.419 \n",
      "train loss 38.438 \n",
      "val loss 38.395 \n",
      "train loss 38.414 \n",
      "val loss 38.361 \n",
      "train loss 38.379 \n",
      "val loss 38.317 \n",
      "train loss 38.336 \n",
      "val loss 38.265 \n",
      "train loss 38.283 \n",
      "val loss 38.206 \n",
      "train loss 38.224 \n",
      "val loss 38.140 \n",
      "train loss 38.158 \n",
      "val loss 38.068 \n",
      "train loss 38.085 \n",
      "val loss 37.990 \n",
      "train loss 38.008 \n",
      "val loss 37.909 \n"
     ]
    }
   ],
   "source": [
    "model = MF(n, m, emb_size=100)\n",
    "optimizer = torch.optim.SGD(model.parameters(), lr=0.01, momentum=0.9)\n",
    "train_model(model, train, val, optimizer)"
   ]
  },
  {
   "cell_type": "code",
   "execution_count": null,
   "metadata": {
    "colab": {
     "base_uri": "https://localhost:8080/"
    },
    "executionInfo": {
     "elapsed": 9076,
     "status": "ok",
     "timestamp": 1683575370515,
     "user": {
      "displayName": "Илья Комутков",
      "userId": "17011463244539239996"
     },
     "user_tz": -240
    },
    "id": "laxSxFXwp3Ov",
    "outputId": "5b3bcd58-c3f5-4f25-d0d6-5a1bb1772e46"
   },
   "outputs": [
    {
     "name": "stdout",
     "output_type": "stream",
     "text": [
      "train loss 38.410 \n",
      "val loss 4.877 \n",
      "train loss 4.880 \n",
      "val loss 2.656 \n",
      "train loss 2.654 \n",
      "val loss 1.720 \n",
      "train loss 1.715 \n",
      "val loss 1.220 \n",
      "train loss 1.214 \n",
      "val loss 0.919 \n",
      "train loss 0.911 \n",
      "val loss 0.721 \n",
      "train loss 0.713 \n",
      "val loss 0.584 \n",
      "train loss 0.575 \n",
      "val loss 0.485 \n",
      "train loss 0.476 \n",
      "val loss 0.411 \n",
      "train loss 0.401 \n",
      "val loss 0.354 \n"
     ]
    },
    {
     "data": {
      "text/plain": [
       "0.35381805896759033"
      ]
     },
     "execution_count": 218,
     "metadata": {},
     "output_type": "execute_result"
    }
   ],
   "source": [
    "model = MF(n, m, emb_size=100)\n",
    "optimizer = torch.optim.RMSprop(model.parameters())\n",
    "train_model(model, train, val, optimizer)"
   ]
  },
  {
   "cell_type": "code",
   "execution_count": null,
   "metadata": {
    "colab": {
     "base_uri": "https://localhost:8080/"
    },
    "executionInfo": {
     "elapsed": 8060,
     "status": "ok",
     "timestamp": 1683571668653,
     "user": {
      "displayName": "Илья Комутков",
      "userId": "17011463244539239996"
     },
     "user_tz": -240
    },
    "id": "3NLGgZuyrK7-",
    "outputId": "4a3e79d0-96ff-41b6-fd30-20d401692ed6"
   },
   "outputs": [
    {
     "name": "stdout",
     "output_type": "stream",
     "text": [
      "train loss 38.665 \n",
      "val loss 37.744 \n",
      "train loss 37.742 \n",
      "val loss 36.841 \n",
      "train loss 36.838 \n",
      "val loss 35.961 \n",
      "train loss 35.954 \n",
      "val loss 35.103 \n",
      "train loss 35.094 \n",
      "val loss 34.268 \n",
      "train loss 34.257 \n",
      "val loss 33.458 \n",
      "train loss 33.444 \n",
      "val loss 32.671 \n",
      "train loss 32.655 \n",
      "val loss 31.907 \n",
      "train loss 31.890 \n",
      "val loss 31.166 \n",
      "train loss 31.147 \n",
      "val loss 30.447 \n"
     ]
    }
   ],
   "source": [
    "model = MF(n, m, emb_size=100)\n",
    "optimizer = torch.optim.Adadelta(model.parameters())\n",
    "train_model(model, train, val, optimizer)"
   ]
  },
  {
   "cell_type": "markdown",
   "metadata": {
    "id": "ADvAdZK3xRGh"
   },
   "source": [
    "Лучший оптимизатор - RMSprop"
   ]
  },
  {
   "cell_type": "markdown",
   "metadata": {
    "id": "DdMes6cExXLe"
   },
   "source": [
    "## Подбор размера эмбеддинга, lr, weight_decay и количества эпох"
   ]
  },
  {
   "cell_type": "code",
   "execution_count": null,
   "metadata": {
    "colab": {
     "base_uri": "https://localhost:8080/"
    },
    "executionInfo": {
     "elapsed": 43752,
     "status": "ok",
     "timestamp": 1683572795586,
     "user": {
      "displayName": "Илья Комутков",
      "userId": "17011463244539239996"
     },
     "user_tz": -240
    },
    "id": "PvXQHcX_tdpl",
    "outputId": "aeef511e-bcb0-4999-fc6d-e31ca6fc3067"
   },
   "outputs": [
    {
     "name": "stdout",
     "output_type": "stream",
     "text": [
      "emb_size=10, mse=0.013544056564569473\n",
      "emb_size=20, mse=0.024569591507315636\n",
      "emb_size=30, mse=0.04286257177591324\n",
      "emb_size=40, mse=0.06701702624559402\n",
      "emb_size=50, mse=0.09746062010526657\n",
      "emb_size=60, mse=0.13457538187503815\n",
      "emb_size=70, mse=0.17908911406993866\n",
      "emb_size=80, mse=0.23461976647377014\n",
      "emb_size=90, mse=0.2910347282886505\n",
      "emb_size=100, mse=0.35464444756507874\n"
     ]
    }
   ],
   "source": [
    "for emb in range(10, 110, 10):\n",
    "  model = MF(n, m, emb_size=emb)\n",
    "  optimizer = torch.optim.RMSprop(model.parameters())\n",
    "  mse = train_model(model, train, val, optimizer, verbose=False)\n",
    "  print(f'emb_size={emb}, mse={mse}')"
   ]
  },
  {
   "cell_type": "code",
   "execution_count": null,
   "metadata": {
    "colab": {
     "base_uri": "https://localhost:8080/"
    },
    "executionInfo": {
     "elapsed": 42626,
     "status": "ok",
     "timestamp": 1683576172495,
     "user": {
      "displayName": "Илья Комутков",
      "userId": "17011463244539239996"
     },
     "user_tz": -240
    },
    "id": "875CRoK3Mj0J",
    "outputId": "15f60ada-f573-44ee-8d1b-3912073d0336"
   },
   "outputs": [
    {
     "name": "stdout",
     "output_type": "stream",
     "text": [
      "lr=0.1, mse=2.7183213233947754\n",
      "lr=0.01, mse=0.35556358098983765\n",
      "lr=0.001, mse=17.180782318115234\n",
      "lr=0.0001, mse=35.4277458190918\n",
      "lr=1e-05, mse=38.11247634887695\n"
     ]
    }
   ],
   "source": [
    "for lr in (0.1, 0.01, 0.001, 0.0001, 0.00001):\n",
    "  model = MF(n, m, emb_size=100)\n",
    "  optimizer = torch.optim.RMSprop(model.parameters(), lr=lr)\n",
    "  mse = train_model(model, train, val, optimizer, verbose=False)\n",
    "  print(f'lr={lr}, mse={mse}')"
   ]
  },
  {
   "cell_type": "code",
   "execution_count": null,
   "metadata": {
    "colab": {
     "base_uri": "https://localhost:8080/"
    },
    "executionInfo": {
     "elapsed": 49673,
     "status": "ok",
     "timestamp": 1683576224357,
     "user": {
      "displayName": "Илья Комутков",
      "userId": "17011463244539239996"
     },
     "user_tz": -240
    },
    "id": "tg38NTxa7e7f",
    "outputId": "9e087dfc-847d-4045-a709-70e193522284"
   },
   "outputs": [
    {
     "name": "stdout",
     "output_type": "stream",
     "text": [
      "wd=0.1, mse=0.011228643357753754\n",
      "wd=0.01, mse=0.016448549926280975\n",
      "wd=0.001, mse=0.11904768645763397\n",
      "wd=0.0001, mse=0.3018614947795868\n",
      "wd=1e-05, mse=0.3485008776187897\n",
      "wd=0, mse=0.35651886463165283\n"
     ]
    }
   ],
   "source": [
    "for wd in (0.1, 0.01, 0.001, 0.0001, 0.00001, 0):\n",
    "  model = MF(n, m, emb_size=100)\n",
    "  optimizer = torch.optim.RMSprop(model.parameters(), weight_decay=wd)\n",
    "  mse = train_model(model, train, val, optimizer, verbose=False)\n",
    "  print(f'wd={wd}, mse={mse}')"
   ]
  },
  {
   "cell_type": "code",
   "execution_count": null,
   "metadata": {
    "colab": {
     "base_uri": "https://localhost:8080/"
    },
    "executionInfo": {
     "elapsed": 52727,
     "status": "ok",
     "timestamp": 1683576417947,
     "user": {
      "displayName": "Илья Комутков",
      "userId": "17011463244539239996"
     },
     "user_tz": -240
    },
    "id": "_9gr_2-L9zaO",
    "outputId": "93c8bfd4-37d9-4c5d-84b4-34f8d2741b96"
   },
   "outputs": [
    {
     "name": "stdout",
     "output_type": "stream",
     "text": [
      "num_epochs=5, mse=0.2205890268087387\n",
      "num_epochs=10, mse=0.016256045550107956\n",
      "num_epochs=20, mse=0.014443607069551945\n",
      "num_epochs=30, mse=0.01558822114020586\n"
     ]
    }
   ],
   "source": [
    "for num_epochs in (5, 10, 20, 30):\n",
    "  model = MF(n, m, emb_size=100)\n",
    "  optimizer = torch.optim.RMSprop(model.parameters(), weight_decay=0.01)\n",
    "  mse = train_model(model, train, val, optimizer, epochs=num_epochs, verbose=False)\n",
    "  print(f'num_epochs={num_epochs}, mse={mse}')"
   ]
  },
  {
   "cell_type": "markdown",
   "metadata": {
    "id": "L15nUbzjyBpD"
   },
   "source": [
    "При подборе гиперпараметров возник парадокс - лучшие с точки зрения mse параметры показывали не самые лучшие метрики recall@10 и precision@10 на тестовых данных. По этой причине было решено делать выводы на основе recall@10 и precision@10 на тестовых данных, для улучшения которых нужно изменить weight_decay и количества эпох. Ниже приведены лучшие результаты на тестовых данных."
   ]
  },
  {
   "cell_type": "markdown",
   "metadata": {
    "id": "pe-RGDZ_M3cG"
   },
   "source": [
    "## Результаты на тестовых данных"
   ]
  },
  {
   "cell_type": "code",
   "execution_count": null,
   "metadata": {
    "colab": {
     "base_uri": "https://localhost:8080/"
    },
    "executionInfo": {
     "elapsed": 20415,
     "status": "ok",
     "timestamp": 1683576459920,
     "user": {
      "displayName": "Илья Комутков",
      "userId": "17011463244539239996"
     },
     "user_tz": -240
    },
    "id": "mHw3YLya5B2F",
    "outputId": "b56fa817-49b3-4990-c097-3f209351b307"
   },
   "outputs": [
    {
     "name": "stdout",
     "output_type": "stream",
     "text": [
      "train loss 38.634 \n",
      "val loss 4.927 \n",
      "train loss 4.928 \n",
      "val loss 1.904 \n",
      "train loss 1.904 \n",
      "val loss 0.863 \n",
      "train loss 0.863 \n",
      "val loss 0.424 \n",
      "train loss 0.425 \n",
      "val loss 0.219 \n",
      "train loss 0.219 \n",
      "val loss 0.117 \n",
      "train loss 0.117 \n",
      "val loss 0.064 \n",
      "train loss 0.065 \n",
      "val loss 0.037 \n",
      "train loss 0.037 \n",
      "val loss 0.023 \n",
      "train loss 0.023 \n",
      "val loss 0.016 \n",
      "train loss 0.016 \n",
      "val loss 0.013 \n",
      "train loss 0.013 \n",
      "val loss 0.012 \n",
      "train loss 0.012 \n",
      "val loss 0.012 \n",
      "train loss 0.012 \n",
      "val loss 0.012 \n",
      "train loss 0.012 \n",
      "val loss 0.012 \n",
      "train loss 0.012 \n",
      "val loss 0.013 \n",
      "train loss 0.013 \n",
      "val loss 0.013 \n",
      "train loss 0.013 \n",
      "val loss 0.014 \n",
      "train loss 0.014 \n",
      "val loss 0.014 \n",
      "train loss 0.014 \n",
      "val loss 0.014 \n"
     ]
    },
    {
     "data": {
      "text/plain": [
       "0.014441419392824173"
      ]
     },
     "execution_count": 255,
     "metadata": {},
     "output_type": "execute_result"
    }
   ],
   "source": [
    "model = MF(len(ratings_df.user_id.unique()), len(ratings_df.track_id.unique()), emb_size=100)\n",
    "optimizer = torch.optim.RMSprop(model.parameters(), weight_decay=0.01)\n",
    "train_model(model, ratings_df_train, ratings_df_test, optimizer, epochs=20)"
   ]
  },
  {
   "cell_type": "code",
   "execution_count": null,
   "metadata": {
    "id": "msr5Bp9DM8DG"
   },
   "outputs": [],
   "source": [
    "interactions_df = (\n",
    "    ratings_df_train.groupby(\"user_id\")[\"track_id\"]\n",
    "    .agg(lambda x: list(x))\n",
    "    .reset_index()\n",
    "    .rename(columns={\"track_id\": \"true_train\"})\n",
    "    .set_index(\"user_id\")\n",
    ")\n",
    "interactions_df[\"true_test\"] = ratings_df_test.groupby(\"user_id\")[\"track_id\"].agg(\n",
    "    lambda x: list(x)\n",
    ")\n",
    "interactions_df.loc[pd.isnull(interactions_df.true_test), \"true_test\"] = [\n",
    "    [\"\"]\n",
    "    for x in range(\n",
    "        len(interactions_df.loc[pd.isnull(interactions_df.true_test), \"true_test\"])\n",
    "    )\n",
    "]\n"
   ]
  },
  {
   "cell_type": "code",
   "execution_count": null,
   "metadata": {
    "id": "4zcy2-lVNLPA"
   },
   "outputs": [],
   "source": [
    "user_list = []\n",
    "track_list = []\n",
    "tracks = sorted(ratings_df_test['track_id'].unique().tolist())\n",
    "for user_id in ratings_df_test['user_id'].unique():\n",
    "  user = torch.tensor(user_id)\n",
    "  tracks_tensor = torch.tensor(tracks)\n",
    "  predictions = model(user, tracks_tensor).detach().numpy()\n",
    "  user_list.extend([user_id] * 10)\n",
    "  track_list.extend(predictions.argsort()[-10:][::-1])\n",
    "\n",
    "prediction_df = pd.DataFrame({'user_id': user_list, 'track_id': track_list})\n",
    "interactions_df[\"prediction_nn\"] = prediction_df.groupby(\"user_id\")[\"track_id\"].agg(\n",
    "    lambda x: list(x)\n",
    ")"
   ]
  },
  {
   "cell_type": "code",
   "execution_count": null,
   "metadata": {
    "colab": {
     "base_uri": "https://localhost:8080/"
    },
    "executionInfo": {
     "elapsed": 19,
     "status": "ok",
     "timestamp": 1683576462698,
     "user": {
      "displayName": "Илья Комутков",
      "userId": "17011463244539239996"
     },
     "user_tz": -240
    },
    "id": "ku3HiuwXSNZQ",
    "outputId": "9e0497ca-a2ee-4e09-b4e5-1ac17add7aa1"
   },
   "outputs": [
    {
     "data": {
      "text/plain": [
       "0.042599277978339345"
      ]
     },
     "execution_count": 257,
     "metadata": {},
     "output_type": "execute_result"
    }
   ],
   "source": [
    "(\n",
    "interactions_df.apply(\n",
    "        lambda row: len(\n",
    "            set(row[\"true_test\"]).intersection(set(row[\"prediction_nn\"][:10]))\n",
    "        )\n",
    "        / len(row[\"prediction_nn\"][:10]),\n",
    "        axis=1,\n",
    "    )\n",
    ").mean()"
   ]
  },
  {
   "cell_type": "code",
   "execution_count": null,
   "metadata": {
    "colab": {
     "base_uri": "https://localhost:8080/"
    },
    "executionInfo": {
     "elapsed": 11,
     "status": "ok",
     "timestamp": 1683576462698,
     "user": {
      "displayName": "Илья Комутков",
      "userId": "17011463244539239996"
     },
     "user_tz": -240
    },
    "id": "VSo6GfDHSd-9",
    "outputId": "21faae62-30f9-4be6-ca9e-603ee153aa0b"
   },
   "outputs": [
    {
     "data": {
      "text/plain": [
       "0.007707242107268697"
      ]
     },
     "execution_count": 258,
     "metadata": {},
     "output_type": "execute_result"
    }
   ],
   "source": [
    "(\n",
    "interactions_df.apply(\n",
    "        lambda row: len(\n",
    "            set(row[\"true_test\"]).intersection(set(row[\"prediction_nn\"][:10]))\n",
    "        )\n",
    "        / len(row[\"true_test\"])\n",
    "        + 0.001,\n",
    "        axis=1,\n",
    "    )\n",
    ").mean()"
   ]
  },
  {
   "cell_type": "markdown",
   "metadata": {
    "id": "goVUoBzhy72E"
   },
   "source": [
    "recall@10 и precision@10 для нейронной сети меньше бейзлайна почти в два раза, в качестве основных моделей сервиса решено использовать lightfm и svd"
   ]
  }
 ],
 "metadata": {
  "colab": {
   "authorship_tag": "ABX9TyNQQ11BgSbqnRdV6KnfWNgR",
   "provenance": []
  },
  "kernelspec": {
   "display_name": "Python 3 (ipykernel)",
   "language": "python",
   "name": "python3"
  },
  "language_info": {
   "codemirror_mode": {
    "name": "ipython",
    "version": 3
   },
   "file_extension": ".py",
   "mimetype": "text/x-python",
   "name": "python",
   "nbconvert_exporter": "python",
   "pygments_lexer": "ipython3",
   "version": "3.8.9"
  }
 },
 "nbformat": 4,
 "nbformat_minor": 1
}
