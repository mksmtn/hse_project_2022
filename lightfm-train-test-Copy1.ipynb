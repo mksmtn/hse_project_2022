{
 "cells": [
  {
   "cell_type": "markdown",
   "id": "7bafb379-79ec-480c-9965-43dddf5bfb67",
   "metadata": {},
   "source": [
    "# LightFM Model on Lfm-b2 dataset"
   ]
  },
  {
   "cell_type": "code",
   "execution_count": 1,
   "id": "801082ff-2920-415d-86d4-751f2ed09685",
   "metadata": {},
   "outputs": [],
   "source": [
    "import numpy as np\n",
    "from lightfm.data import Dataset\n",
    "from lightfm.evaluation import auc_score, precision_at_k, recall_at_k, reciprocal_rank\n",
    "import pandas as pd\n",
    "import dask.dataframe as dd\n",
    "import dask.array as da\n",
    "import dask.bag as db\n",
    "from dask_ml.model_selection import train_test_split\n",
    "import pickle"
   ]
  },
  {
   "cell_type": "code",
   "execution_count": 2,
   "id": "34385395-5efc-49a2-a6c4-9c4c96108f93",
   "metadata": {},
   "outputs": [
    {
     "data": {
      "text/plain": [
       "user_id          120322\n",
       "country           55186\n",
       "age              120322\n",
       "gender           120110\n",
       "creation_time    120322\n",
       "dtype: int64"
      ]
     },
     "execution_count": 2,
     "metadata": {},
     "output_type": "execute_result"
    }
   ],
   "source": [
    "users = dd.read_csv('lfm-b2/users.tsv', sep='\\t')\n",
    "users.count().compute()"
   ]
  },
  {
   "cell_type": "code",
   "execution_count": 3,
   "id": "d61ebcc5-b143-4173-a8fb-26579c6a9861",
   "metadata": {},
   "outputs": [],
   "source": [
    "users = users.sample(frac=0.001, random_state=42)\n",
    "user_ids = users['user_id'].to_dask_array(True)"
   ]
  },
  {
   "cell_type": "code",
   "execution_count": 4,
   "id": "00ea1049-762d-4f90-8181-eff3402679f3",
   "metadata": {},
   "outputs": [],
   "source": [
    "listening_counts = dd.read_csv('lfm-b2/listening-counts.tsv', sep='\\t')\n",
    "listening_counts = listening_counts[listening_counts['user_id'].isin(user_ids)]"
   ]
  },
  {
   "cell_type": "code",
   "execution_count": 5,
   "id": "0094cc17-2f30-4755-a430-6d2f3dc8b142",
   "metadata": {},
   "outputs": [],
   "source": [
    "dataset = Dataset()\n",
    "dataset.fit(listening_counts.user_id, listening_counts.track_id)"
   ]
  },
  {
   "cell_type": "code",
   "execution_count": 6,
   "id": "e38eb0fd-1cb8-4e3f-99fe-da4817d80635",
   "metadata": {},
   "outputs": [],
   "source": [
    "test_ds = Dataset()\n",
    "test_ds.fit(listening_counts.user_id, listening_counts.track_id)"
   ]
  },
  {
   "cell_type": "code",
   "execution_count": 7,
   "id": "fb89dcd5-8b8a-4e69-aa9d-df12c24c4efc",
   "metadata": {},
   "outputs": [],
   "source": [
    "del listening_counts"
   ]
  },
  {
   "cell_type": "code",
   "execution_count": 8,
   "id": "a45dfaca-dc42-413d-8604-fba7373f98bf",
   "metadata": {},
   "outputs": [],
   "source": [
    "listening_events = dd.read_csv('lfm-b2/listening-events.tsv', sep='\\t')\n",
    "listening_events = listening_events[listening_events['user_id'].isin(user_ids)]"
   ]
  },
  {
   "cell_type": "code",
   "execution_count": 9,
   "id": "038684e1-f02c-4221-bd3d-b209a83ade93",
   "metadata": {},
   "outputs": [],
   "source": [
    "le_train, le_test = train_test_split(listening_events, shuffle=False, test_size=0.20, random_state=42)"
   ]
  },
  {
   "cell_type": "code",
   "execution_count": 10,
   "id": "7a8c847b-ae1a-42f4-951d-d88605b344d8",
   "metadata": {},
   "outputs": [],
   "source": [
    "del listening_events"
   ]
  },
  {
   "cell_type": "code",
   "execution_count": 11,
   "id": "176e8c18-8bdb-46d4-8354-269c01b17292",
   "metadata": {},
   "outputs": [
    {
     "name": "stdout",
     "output_type": "stream",
     "text": [
      "<120x309395 sparse matrix of type '<class 'numpy.int32'>'\n",
      "\twith 276071 stored elements in COOrdinate format>\n"
     ]
    }
   ],
   "source": [
    "(test_interactions, test_weights) = test_ds.build_interactions(((e[0], e[1]) for e in zip(le_test.user_id, le_test.track_id)))\n",
    "print(repr(test_interactions))"
   ]
  },
  {
   "cell_type": "code",
   "execution_count": 14,
   "id": "0769514a-3a0b-4ce7-bee9-9f565003a54c",
   "metadata": {},
   "outputs": [
    {
     "name": "stdout",
     "output_type": "stream",
     "text": [
      "<120x309395 sparse matrix of type '<class 'numpy.int32'>'\n",
      "\twith 276071 stored elements in COOrdinate format>\n"
     ]
    }
   ],
   "source": [
    "(interactions, weights) = test_ds.build_interactions(((e[0], e[1]) for e in zip(le_train.user_id, le_train.track_id)))\n",
    "print(repr(interactions))"
   ]
  },
  {
   "cell_type": "code",
   "execution_count": 15,
   "id": "37ec25d6-f3ca-474f-a5e1-62d0a922e1b6",
   "metadata": {},
   "outputs": [],
   "source": [
    "# user_features = dataset.build_user_features((u.user_id, [u.country, u.age, u.gender]) for u in users)\n",
    "# print(repr(user_features))"
   ]
  },
  {
   "cell_type": "code",
   "execution_count": 16,
   "id": "aeb9b406-3864-45ab-9bb6-7323accd2ade",
   "metadata": {},
   "outputs": [
    {
     "data": {
      "text/plain": [
       "<lightfm.lightfm.LightFM at 0x7f7e248613a0>"
      ]
     },
     "execution_count": 16,
     "metadata": {},
     "output_type": "execute_result"
    }
   ],
   "source": [
    "from lightfm import LightFM\n",
    "model = LightFM(loss='warp')\n",
    "# model.fit(interactions, item_features=item_features)\n",
    "model.fit(interactions)"
   ]
  },
  {
   "cell_type": "code",
   "execution_count": 17,
   "id": "1c599e69-9904-4d14-9e16-c24eb7fe86c3",
   "metadata": {},
   "outputs": [],
   "source": [
    "with open('model-train-test.pickle', 'wb') as handle:\n",
    "    pickle.dump(model, handle)"
   ]
  },
  {
   "cell_type": "code",
   "execution_count": 26,
   "id": "9a154473-3d21-4b41-a664-4434db91260c",
   "metadata": {},
   "outputs": [
    {
     "data": {
      "text/plain": [
       "0.6870096"
      ]
     },
     "execution_count": 26,
     "metadata": {},
     "output_type": "execute_result"
    }
   ],
   "source": [
    "auc_score(model, test_interactions, num_threads=2).mean()"
   ]
  },
  {
   "cell_type": "code",
   "execution_count": 27,
   "id": "6e7ebf5d-a40f-4b36-b29f-d5f7d1228dc3",
   "metadata": {},
   "outputs": [
    {
     "data": {
      "text/plain": [
       "0.1075"
      ]
     },
     "execution_count": 27,
     "metadata": {},
     "output_type": "execute_result"
    }
   ],
   "source": [
    "precision_at_k(model, test_interactions, num_threads=2).mean()"
   ]
  },
  {
   "cell_type": "code",
   "execution_count": 28,
   "id": "da4aa35d-f3eb-42b3-85cf-490a77cf889c",
   "metadata": {},
   "outputs": [
    {
     "data": {
      "text/plain": [
       "0.0016217656160171993"
      ]
     },
     "execution_count": 28,
     "metadata": {},
     "output_type": "execute_result"
    }
   ],
   "source": [
    "recall_at_k(model, test_interactions, num_threads=2).mean()"
   ]
  },
  {
   "cell_type": "code",
   "execution_count": 29,
   "id": "860b10f8-0046-4652-8623-d4ff04b1f0f3",
   "metadata": {},
   "outputs": [
    {
     "data": {
      "text/plain": [
       "0.20356373"
      ]
     },
     "execution_count": 29,
     "metadata": {},
     "output_type": "execute_result"
    }
   ],
   "source": [
    "reciprocal_rank(model, test_interactions, num_threads=2).mean()"
   ]
  },
  {
   "cell_type": "code",
   "execution_count": null,
   "id": "8d9acde4-5b0c-47ca-ab3b-331fb90b5b16",
   "metadata": {},
   "outputs": [],
   "source": []
  }
 ],
 "metadata": {
  "kernelspec": {
   "display_name": "Python 3 (ipykernel)",
   "language": "python",
   "name": "python3"
  },
  "language_info": {
   "codemirror_mode": {
    "name": "ipython",
    "version": 3
   },
   "file_extension": ".py",
   "mimetype": "text/x-python",
   "name": "python",
   "nbconvert_exporter": "python",
   "pygments_lexer": "ipython3",
   "version": "3.8.10"
  }
 },
 "nbformat": 4,
 "nbformat_minor": 5
}
