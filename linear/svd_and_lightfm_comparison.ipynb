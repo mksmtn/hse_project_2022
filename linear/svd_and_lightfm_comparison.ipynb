{
  "cells": [
    {
      "cell_type": "code",
      "execution_count": 2,
      "id": "f1da05fb",
      "metadata": {
        "colab": {
          "base_uri": "https://localhost:8080/"
        },
        "id": "f1da05fb",
        "outputId": "662a7681-59e7-451e-9747-72ffa5014c83"
      },
      "outputs": [
        {
          "output_type": "stream",
          "name": "stdout",
          "text": [
            "Looking in indexes: https://pypi.org/simple, https://us-python.pkg.dev/colab-wheels/public/simple/\n",
            "Collecting lightfm\n",
            "  Downloading lightfm-1.16.tar.gz (310 kB)\n",
            "\u001b[2K     \u001b[90m━━━━━━━━━━━━━━━━━━━━━━━━━━━━━━━━━━━━━━\u001b[0m \u001b[32m310.1/310.1 KB\u001b[0m \u001b[31m17.0 MB/s\u001b[0m eta \u001b[36m0:00:00\u001b[0m\n",
            "\u001b[?25h  Preparing metadata (setup.py) ... \u001b[?25l\u001b[?25hdone\n",
            "Requirement already satisfied: numpy in /usr/local/lib/python3.8/dist-packages (from lightfm) (1.22.4)\n",
            "Requirement already satisfied: scipy>=0.17.0 in /usr/local/lib/python3.8/dist-packages (from lightfm) (1.7.3)\n",
            "Requirement already satisfied: requests in /usr/local/lib/python3.8/dist-packages (from lightfm) (2.25.1)\n",
            "Requirement already satisfied: scikit-learn in /usr/local/lib/python3.8/dist-packages (from lightfm) (1.0.2)\n",
            "Requirement already satisfied: chardet<5,>=3.0.2 in /usr/local/lib/python3.8/dist-packages (from requests->lightfm) (4.0.0)\n",
            "Requirement already satisfied: urllib3<1.27,>=1.21.1 in /usr/local/lib/python3.8/dist-packages (from requests->lightfm) (1.24.3)\n",
            "Requirement already satisfied: certifi>=2017.4.17 in /usr/local/lib/python3.8/dist-packages (from requests->lightfm) (2022.12.7)\n",
            "Requirement already satisfied: idna<3,>=2.5 in /usr/local/lib/python3.8/dist-packages (from requests->lightfm) (2.10)\n",
            "Requirement already satisfied: joblib>=0.11 in /usr/local/lib/python3.8/dist-packages (from scikit-learn->lightfm) (1.2.0)\n",
            "Requirement already satisfied: threadpoolctl>=2.0.0 in /usr/local/lib/python3.8/dist-packages (from scikit-learn->lightfm) (3.1.0)\n",
            "Building wheels for collected packages: lightfm\n",
            "  Building wheel for lightfm (setup.py) ... \u001b[?25l\u001b[?25hdone\n",
            "  Created wheel for lightfm: filename=lightfm-1.16-cp38-cp38-linux_x86_64.whl size=917982 sha256=7b34f2cc177017ce39fb6b793eadf495b2a14a32e8bfa65574f621985fa7bc59\n",
            "  Stored in directory: /root/.cache/pip/wheels/ec/bb/51/9c487d021c1373b691d13cadca0b65b6852627b1f3f43550fa\n",
            "Successfully built lightfm\n",
            "Installing collected packages: lightfm\n",
            "Successfully installed lightfm-1.16\n"
          ]
        }
      ],
      "source": [
        "!pip install lightfm\n",
        "import pandas as pd\n",
        "import numpy as np\n",
        "import pickle\n",
        "from scipy.sparse import csr_matrix\n",
        "from scipy.sparse.linalg import svds\n",
        "from sklearn.model_selection import train_test_split\n",
        "import random\n",
        "from tqdm.notebook import tqdm\n",
        "import json\n",
        "from lightfm.data import Dataset\n",
        "from lightfm.evaluation import auc_score, precision_at_k, recall_at_k, reciprocal_rank\n",
        "from lightfm.cross_validation import random_train_test_split\n",
        "from lightfm import LightFM\n",
        "import dask.dataframe as dd\n",
        "\n",
        "np.random.seed = 42"
      ]
    },
    {
      "cell_type": "code",
      "source": [
        "from google.colab import drive\n",
        "\n",
        "drive.mount('/content/gdrive/', force_remount=True)"
      ],
      "metadata": {
        "colab": {
          "base_uri": "https://localhost:8080/"
        },
        "id": "ps4nSPgui_gu",
        "outputId": "d5560e6d-3748-4bb0-98f3-ed688fecd722"
      },
      "id": "ps4nSPgui_gu",
      "execution_count": 3,
      "outputs": [
        {
          "output_type": "stream",
          "name": "stdout",
          "text": [
            "Mounted at /content/gdrive/\n"
          ]
        }
      ]
    },
    {
      "cell_type": "code",
      "execution_count": 6,
      "id": "825372b6",
      "metadata": {
        "id": "825372b6"
      },
      "outputs": [],
      "source": [
        "full_df = pd.read_csv('/content/gdrive/MyDrive/Colab Notebooks/rec sys/ratings_df.csv')\n",
        "ratings_df = full_df.drop(columns=['count'])"
      ]
    },
    {
      "cell_type": "code",
      "execution_count": 7,
      "id": "f839c077",
      "metadata": {
        "colab": {
          "base_uri": "https://localhost:8080/"
        },
        "id": "f839c077",
        "outputId": "268c8286-54a1-4213-b812-e11cb98c05d8"
      },
      "outputs": [
        {
          "output_type": "stream",
          "name": "stdout",
          "text": [
            "# interactions on Train set: 499252\n",
            "# interactions on Test set: 124813\n"
          ]
        }
      ],
      "source": [
        "ratings_df_train, ratings_df_test = train_test_split(ratings_df,\n",
        "                                   stratify=ratings_df['user_id'], \n",
        "                                   test_size=0.20,\n",
        "                                   random_state=42)\n",
        "\n",
        "print('# interactions on Train set: %d' % len(ratings_df_train))\n",
        "print('# interactions on Test set: %d' % len(ratings_df_test))"
      ]
    },
    {
      "cell_type": "code",
      "execution_count": 8,
      "id": "e8f2642b",
      "metadata": {
        "id": "e8f2642b"
      },
      "outputs": [],
      "source": [
        "ratings_df = ratings_df.set_index('user_id')\n",
        "ratings_df_train = ratings_df_train.set_index('user_id')\n",
        "ratings_df_test = ratings_df_test.set_index('user_id')"
      ]
    },
    {
      "cell_type": "code",
      "execution_count": 13,
      "id": "e7f67f62",
      "metadata": {
        "id": "e7f67f62"
      },
      "outputs": [],
      "source": [
        "pivot_train = ratings_df.pivot_table(index='user_id', columns='track_id', values='rating').fillna(0)\n",
        "csr_coll_matrix_train = csr_matrix(pivot_train)"
      ]
    },
    {
      "cell_type": "code",
      "execution_count": 14,
      "id": "fe75ef27",
      "metadata": {
        "id": "fe75ef27"
      },
      "outputs": [],
      "source": [
        "NUMBER_OF_FACTORS_MF = 15\n",
        "\n",
        "U, sigma, Vt = svds(csr_coll_matrix_train, k = NUMBER_OF_FACTORS_MF)\n",
        "\n",
        "sigma = np.diag(sigma)"
      ]
    },
    {
      "cell_type": "code",
      "execution_count": 15,
      "id": "e3258b21",
      "metadata": {
        "id": "e3258b21"
      },
      "outputs": [],
      "source": [
        "predicted_ratings_train = np.dot(np.dot(U, sigma), Vt) \n",
        "predicted_ratings_train_norm = (predicted_ratings_train - \n",
        "                                   predicted_ratings_train.min()) / (predicted_ratings_train.max()\n",
        "                                                                        - predicted_ratings_train.min())"
      ]
    },
    {
      "cell_type": "code",
      "execution_count": 16,
      "id": "f2272f47",
      "metadata": {
        "id": "f2272f47"
      },
      "outputs": [],
      "source": [
        "cf_preds_df = pd.DataFrame(predicted_ratings_train_norm,\n",
        "                           columns = pivot_train.columns,\n",
        "                           index=list(pivot_train.index)).transpose()"
      ]
    },
    {
      "cell_type": "code",
      "execution_count": null,
      "id": "92ab657b",
      "metadata": {
        "id": "92ab657b"
      },
      "outputs": [],
      "source": [
        "def dcg_at_k(r, k):\n",
        "    \"\"\"Score is discounted cumulative gain (dcg)\n",
        "    Args:\n",
        "        r: Relevance scores (list or numpy) in rank order\n",
        "            (first element is the first item)\n",
        "        k: Number of results to consider\n",
        "    Returns:\n",
        "        Discounted cumulative gain\n",
        "    \"\"\"\n",
        "    r = np.asfarray(r)[:k]\n",
        "    return np.sum(r / np.log2(np.arange(2, r.size + 2)))\n",
        "\n",
        "def ndcg_at_k(r, k):\n",
        "    \"\"\"Score is normalized discounted cumulative gain (ndcg)\n",
        "    Args:\n",
        "        r: Relevance scores (list or numpy) in rank order\n",
        "            (first element is the first item)\n",
        "        k: Number of results to consider\n",
        "    Returns:\n",
        "        Normalized discounted cumulative gain\n",
        "    \"\"\"\n",
        "    dcg_max = dcg_at_k(sorted(r, reverse=True), k)\n",
        "    if not dcg_max:\n",
        "        return 0.\n",
        "    return dcg_at_k(r, k) / dcg_max"
      ]
    },
    {
      "cell_type": "code",
      "execution_count": 35,
      "id": "033065f2",
      "metadata": {
        "colab": {
          "base_uri": "https://localhost:8080/",
          "height": 235
        },
        "id": "033065f2",
        "outputId": "23140552-d4ea-4b44-f181-37f860b385d7"
      },
      "outputs": [
        {
          "output_type": "execute_result",
          "data": {
            "text/plain": [
              "                                                true_train  \\\n",
              "user_id                                                      \n",
              "5        [14307760, 29732892, 4348456, 8643011, 1463061...   \n",
              "9        [18113974, 22363431, 43590126, 28203136, 75258...   \n",
              "65       [19012147, 37710883, 37172107, 36039983, 27475...   \n",
              "76       [13785944, 4386315, 20889724, 40109528, 234834...   \n",
              "110      [23326061, 35051782, 12418169, 18526104, 44623...   \n",
              "\n",
              "                                                 true_test  \n",
              "user_id                                                     \n",
              "5        [41314173, 16262974, 7026677, 23537059, 794305...  \n",
              "9        [15904121, 19309434, 18676165, 38762205, 19028...  \n",
              "65       [11196669, 40913219, 21115952, 12623509, 44061...  \n",
              "76       [30368975, 33778999, 11431730, 42824783, 25696...  \n",
              "110      [41411019, 28203136, 16844849, 12451427, 98502...  "
            ],
            "text/html": [
              "\n",
              "  <div id=\"df-ac9a89e8-38c2-4347-a2ee-8e785cd6f516\">\n",
              "    <div class=\"colab-df-container\">\n",
              "      <div>\n",
              "<style scoped>\n",
              "    .dataframe tbody tr th:only-of-type {\n",
              "        vertical-align: middle;\n",
              "    }\n",
              "\n",
              "    .dataframe tbody tr th {\n",
              "        vertical-align: top;\n",
              "    }\n",
              "\n",
              "    .dataframe thead th {\n",
              "        text-align: right;\n",
              "    }\n",
              "</style>\n",
              "<table border=\"1\" class=\"dataframe\">\n",
              "  <thead>\n",
              "    <tr style=\"text-align: right;\">\n",
              "      <th></th>\n",
              "      <th>true_train</th>\n",
              "      <th>true_test</th>\n",
              "    </tr>\n",
              "    <tr>\n",
              "      <th>user_id</th>\n",
              "      <th></th>\n",
              "      <th></th>\n",
              "    </tr>\n",
              "  </thead>\n",
              "  <tbody>\n",
              "    <tr>\n",
              "      <th>5</th>\n",
              "      <td>[14307760, 29732892, 4348456, 8643011, 1463061...</td>\n",
              "      <td>[41314173, 16262974, 7026677, 23537059, 794305...</td>\n",
              "    </tr>\n",
              "    <tr>\n",
              "      <th>9</th>\n",
              "      <td>[18113974, 22363431, 43590126, 28203136, 75258...</td>\n",
              "      <td>[15904121, 19309434, 18676165, 38762205, 19028...</td>\n",
              "    </tr>\n",
              "    <tr>\n",
              "      <th>65</th>\n",
              "      <td>[19012147, 37710883, 37172107, 36039983, 27475...</td>\n",
              "      <td>[11196669, 40913219, 21115952, 12623509, 44061...</td>\n",
              "    </tr>\n",
              "    <tr>\n",
              "      <th>76</th>\n",
              "      <td>[13785944, 4386315, 20889724, 40109528, 234834...</td>\n",
              "      <td>[30368975, 33778999, 11431730, 42824783, 25696...</td>\n",
              "    </tr>\n",
              "    <tr>\n",
              "      <th>110</th>\n",
              "      <td>[23326061, 35051782, 12418169, 18526104, 44623...</td>\n",
              "      <td>[41411019, 28203136, 16844849, 12451427, 98502...</td>\n",
              "    </tr>\n",
              "  </tbody>\n",
              "</table>\n",
              "</div>\n",
              "      <button class=\"colab-df-convert\" onclick=\"convertToInteractive('df-ac9a89e8-38c2-4347-a2ee-8e785cd6f516')\"\n",
              "              title=\"Convert this dataframe to an interactive table.\"\n",
              "              style=\"display:none;\">\n",
              "        \n",
              "  <svg xmlns=\"http://www.w3.org/2000/svg\" height=\"24px\"viewBox=\"0 0 24 24\"\n",
              "       width=\"24px\">\n",
              "    <path d=\"M0 0h24v24H0V0z\" fill=\"none\"/>\n",
              "    <path d=\"M18.56 5.44l.94 2.06.94-2.06 2.06-.94-2.06-.94-.94-2.06-.94 2.06-2.06.94zm-11 1L8.5 8.5l.94-2.06 2.06-.94-2.06-.94L8.5 2.5l-.94 2.06-2.06.94zm10 10l.94 2.06.94-2.06 2.06-.94-2.06-.94-.94-2.06-.94 2.06-2.06.94z\"/><path d=\"M17.41 7.96l-1.37-1.37c-.4-.4-.92-.59-1.43-.59-.52 0-1.04.2-1.43.59L10.3 9.45l-7.72 7.72c-.78.78-.78 2.05 0 2.83L4 21.41c.39.39.9.59 1.41.59.51 0 1.02-.2 1.41-.59l7.78-7.78 2.81-2.81c.8-.78.8-2.07 0-2.86zM5.41 20L4 18.59l7.72-7.72 1.47 1.35L5.41 20z\"/>\n",
              "  </svg>\n",
              "      </button>\n",
              "      \n",
              "  <style>\n",
              "    .colab-df-container {\n",
              "      display:flex;\n",
              "      flex-wrap:wrap;\n",
              "      gap: 12px;\n",
              "    }\n",
              "\n",
              "    .colab-df-convert {\n",
              "      background-color: #E8F0FE;\n",
              "      border: none;\n",
              "      border-radius: 50%;\n",
              "      cursor: pointer;\n",
              "      display: none;\n",
              "      fill: #1967D2;\n",
              "      height: 32px;\n",
              "      padding: 0 0 0 0;\n",
              "      width: 32px;\n",
              "    }\n",
              "\n",
              "    .colab-df-convert:hover {\n",
              "      background-color: #E2EBFA;\n",
              "      box-shadow: 0px 1px 2px rgba(60, 64, 67, 0.3), 0px 1px 3px 1px rgba(60, 64, 67, 0.15);\n",
              "      fill: #174EA6;\n",
              "    }\n",
              "\n",
              "    [theme=dark] .colab-df-convert {\n",
              "      background-color: #3B4455;\n",
              "      fill: #D2E3FC;\n",
              "    }\n",
              "\n",
              "    [theme=dark] .colab-df-convert:hover {\n",
              "      background-color: #434B5C;\n",
              "      box-shadow: 0px 1px 3px 1px rgba(0, 0, 0, 0.15);\n",
              "      filter: drop-shadow(0px 1px 2px rgba(0, 0, 0, 0.3));\n",
              "      fill: #FFFFFF;\n",
              "    }\n",
              "  </style>\n",
              "\n",
              "      <script>\n",
              "        const buttonEl =\n",
              "          document.querySelector('#df-ac9a89e8-38c2-4347-a2ee-8e785cd6f516 button.colab-df-convert');\n",
              "        buttonEl.style.display =\n",
              "          google.colab.kernel.accessAllowed ? 'block' : 'none';\n",
              "\n",
              "        async function convertToInteractive(key) {\n",
              "          const element = document.querySelector('#df-ac9a89e8-38c2-4347-a2ee-8e785cd6f516');\n",
              "          const dataTable =\n",
              "            await google.colab.kernel.invokeFunction('convertToInteractive',\n",
              "                                                     [key], {});\n",
              "          if (!dataTable) return;\n",
              "\n",
              "          const docLinkHtml = 'Like what you see? Visit the ' +\n",
              "            '<a target=\"_blank\" href=https://colab.research.google.com/notebooks/data_table.ipynb>data table notebook</a>'\n",
              "            + ' to learn more about interactive tables.';\n",
              "          element.innerHTML = '';\n",
              "          dataTable['output_type'] = 'display_data';\n",
              "          await google.colab.output.renderOutput(dataTable, element);\n",
              "          const docLink = document.createElement('div');\n",
              "          docLink.innerHTML = docLinkHtml;\n",
              "          element.appendChild(docLink);\n",
              "        }\n",
              "      </script>\n",
              "    </div>\n",
              "  </div>\n",
              "  "
            ]
          },
          "metadata": {},
          "execution_count": 35
        }
      ],
      "source": [
        "interactions_df = (ratings_df_train\n",
        "                   .reset_index()\n",
        "                   .groupby('user_id')['track_id']\n",
        "                   .agg(lambda x: list(x)).reset_index()\n",
        "                    .rename(columns={'track_id': 'true_train'})\n",
        "                  .set_index('user_id'))\n",
        "\n",
        "interactions_df['true_test'] = (\n",
        "    ratings_df_test\n",
        "    .reset_index()\n",
        "    .groupby('user_id')['track_id'].agg(lambda x: list(x))\n",
        ")\n",
        "\n",
        "# заполнение пропусков пустыми списками\n",
        "interactions_df.loc[pd.isnull(interactions_df.true_test), 'true_test'] = [\n",
        "    [''] for x in range(len(interactions_df.loc[pd.isnull(interactions_df.true_test), 'true_test']))]\n",
        "\n",
        "interactions_df.head(5)"
      ]
    },
    {
      "cell_type": "code",
      "execution_count": 36,
      "id": "b465b8ff",
      "metadata": {
        "colab": {
          "base_uri": "https://localhost:8080/",
          "height": 49,
          "referenced_widgets": [
            "786a0c9d839e4d9aaeb34fbe66306a05",
            "2c4779f28a2c4bfd915b8e9ebb82f3a3",
            "4f0704e3fa2149428bfbd093da7134bb",
            "b1b789222f8e4696973e1b03e93d595a",
            "b655264329f14bd2aea5fa1b039ae0c6",
            "02ddf5960ff54981aa958b66a81f65c3",
            "4811ed76b5ef4e409330a88774d9e387",
            "6e4dd740c16a48cdbc4994cca4d9698f",
            "e907180e997c4c0696bfc340add1f97d",
            "9fd15cc30fa945f2ab8efd6100a9b3f9",
            "0d138363bb604efebd3c3ac2dfe8bd8f"
          ]
        },
        "id": "b465b8ff",
        "outputId": "66c94085-f358-482a-afb0-b4614dd38c4a"
      },
      "outputs": [
        {
          "output_type": "display_data",
          "data": {
            "text/plain": [
              "  0%|          | 0/1939 [00:00<?, ?it/s]"
            ],
            "application/vnd.jupyter.widget-view+json": {
              "version_major": 2,
              "version_minor": 0,
              "model_id": "786a0c9d839e4d9aaeb34fbe66306a05"
            }
          },
          "metadata": {}
        }
      ],
      "source": [
        "top_k = 10\n",
        "\n",
        "cf_preds_df_t = cf_preds_df.transpose()\n",
        "\n",
        "predictions = []\n",
        "\n",
        "for user_id in tqdm(interactions_df.index):\n",
        "    prediction = (\n",
        "        cf_preds_df_t\n",
        "        .loc[user_id]\n",
        "        .sort_values(ascending=False)\n",
        "        .index.values\n",
        "    )\n",
        "    \n",
        "    predictions.append(\n",
        "        list(prediction[~np.in1d(\n",
        "            prediction,\n",
        "            interactions_df.loc[user_id, 'true_train'])])[:top_k])\n",
        "\n",
        "interactions_df['prediction_svd'] = predictions"
      ]
    },
    {
      "cell_type": "code",
      "execution_count": 37,
      "id": "8c407b55",
      "metadata": {
        "colab": {
          "base_uri": "https://localhost:8080/",
          "height": 450
        },
        "id": "8c407b55",
        "outputId": "14c6681a-63d7-43d5-8721-4ed1e5075544"
      },
      "outputs": [
        {
          "output_type": "execute_result",
          "data": {
            "text/plain": [
              "                                                true_train  \\\n",
              "user_id                                                      \n",
              "5        [14307760, 29732892, 4348456, 8643011, 1463061...   \n",
              "9        [18113974, 22363431, 43590126, 28203136, 75258...   \n",
              "65       [19012147, 37710883, 37172107, 36039983, 27475...   \n",
              "76       [13785944, 4386315, 20889724, 40109528, 234834...   \n",
              "110      [23326061, 35051782, 12418169, 18526104, 44623...   \n",
              "...                                                    ...   \n",
              "119268   [44237210, 29321338, 7574307, 20555631, 438631...   \n",
              "119638   [6860393, 36410186, 40011180, 13007884, 44777820]   \n",
              "119645   [27534747, 23642726, 4489625, 21238394, 211731...   \n",
              "119897   [45138264, 8429958, 19606468, 4632002, 1782010...   \n",
              "120095   [46052821, 26649146, 21527989, 20549441, 19022...   \n",
              "\n",
              "                                                 true_test  \\\n",
              "user_id                                                      \n",
              "5        [41314173, 16262974, 7026677, 23537059, 794305...   \n",
              "9        [15904121, 19309434, 18676165, 38762205, 19028...   \n",
              "65       [11196669, 40913219, 21115952, 12623509, 44061...   \n",
              "76       [30368975, 33778999, 11431730, 42824783, 25696...   \n",
              "110      [41411019, 28203136, 16844849, 12451427, 98502...   \n",
              "...                                                    ...   \n",
              "119268   [19512430, 5145627, 7085842, 16558683, 2796986...   \n",
              "119638                                          [31448925]   \n",
              "119645   [28909250, 23664795, 12418169, 34702656, 18162...   \n",
              "119897                      [45781496, 15944840, 31965040]   \n",
              "120095   [3385461, 6944154, 18167337, 39192145, 3522586...   \n",
              "\n",
              "                                            prediction_svd  \n",
              "user_id                                                     \n",
              "5        [32749441, 40660771, 40071241, 26445594, 40477...  \n",
              "9        [39478726, 12327833, 24361147, 45362359, 43044...  \n",
              "65       [22461110, 14323989, 43014490, 38045207, 17774...  \n",
              "76       [30441424, 22268461, 33458906, 14323989, 21320...  \n",
              "110      [32083560, 10290950, 26445594, 44219294, 23841...  \n",
              "...                                                    ...  \n",
              "119268   [38944354, 17774819, 12001256, 29650643, 48139...  \n",
              "119638   [9793081, 24309553, 18009623, 36039983, 367043...  \n",
              "119645   [20562662, 28979867, 29675359, 10359387, 30387...  \n",
              "119897   [37857253, 15656770, 38183644, 37090419, 44973...  \n",
              "120095   [10540381, 36346257, 36367985, 43433165, 35272...  \n",
              "\n",
              "[1939 rows x 3 columns]"
            ],
            "text/html": [
              "\n",
              "  <div id=\"df-b95bbf38-7551-4445-90e3-8ab1c1718aea\">\n",
              "    <div class=\"colab-df-container\">\n",
              "      <div>\n",
              "<style scoped>\n",
              "    .dataframe tbody tr th:only-of-type {\n",
              "        vertical-align: middle;\n",
              "    }\n",
              "\n",
              "    .dataframe tbody tr th {\n",
              "        vertical-align: top;\n",
              "    }\n",
              "\n",
              "    .dataframe thead th {\n",
              "        text-align: right;\n",
              "    }\n",
              "</style>\n",
              "<table border=\"1\" class=\"dataframe\">\n",
              "  <thead>\n",
              "    <tr style=\"text-align: right;\">\n",
              "      <th></th>\n",
              "      <th>true_train</th>\n",
              "      <th>true_test</th>\n",
              "      <th>prediction_svd</th>\n",
              "    </tr>\n",
              "    <tr>\n",
              "      <th>user_id</th>\n",
              "      <th></th>\n",
              "      <th></th>\n",
              "      <th></th>\n",
              "    </tr>\n",
              "  </thead>\n",
              "  <tbody>\n",
              "    <tr>\n",
              "      <th>5</th>\n",
              "      <td>[14307760, 29732892, 4348456, 8643011, 1463061...</td>\n",
              "      <td>[41314173, 16262974, 7026677, 23537059, 794305...</td>\n",
              "      <td>[32749441, 40660771, 40071241, 26445594, 40477...</td>\n",
              "    </tr>\n",
              "    <tr>\n",
              "      <th>9</th>\n",
              "      <td>[18113974, 22363431, 43590126, 28203136, 75258...</td>\n",
              "      <td>[15904121, 19309434, 18676165, 38762205, 19028...</td>\n",
              "      <td>[39478726, 12327833, 24361147, 45362359, 43044...</td>\n",
              "    </tr>\n",
              "    <tr>\n",
              "      <th>65</th>\n",
              "      <td>[19012147, 37710883, 37172107, 36039983, 27475...</td>\n",
              "      <td>[11196669, 40913219, 21115952, 12623509, 44061...</td>\n",
              "      <td>[22461110, 14323989, 43014490, 38045207, 17774...</td>\n",
              "    </tr>\n",
              "    <tr>\n",
              "      <th>76</th>\n",
              "      <td>[13785944, 4386315, 20889724, 40109528, 234834...</td>\n",
              "      <td>[30368975, 33778999, 11431730, 42824783, 25696...</td>\n",
              "      <td>[30441424, 22268461, 33458906, 14323989, 21320...</td>\n",
              "    </tr>\n",
              "    <tr>\n",
              "      <th>110</th>\n",
              "      <td>[23326061, 35051782, 12418169, 18526104, 44623...</td>\n",
              "      <td>[41411019, 28203136, 16844849, 12451427, 98502...</td>\n",
              "      <td>[32083560, 10290950, 26445594, 44219294, 23841...</td>\n",
              "    </tr>\n",
              "    <tr>\n",
              "      <th>...</th>\n",
              "      <td>...</td>\n",
              "      <td>...</td>\n",
              "      <td>...</td>\n",
              "    </tr>\n",
              "    <tr>\n",
              "      <th>119268</th>\n",
              "      <td>[44237210, 29321338, 7574307, 20555631, 438631...</td>\n",
              "      <td>[19512430, 5145627, 7085842, 16558683, 2796986...</td>\n",
              "      <td>[38944354, 17774819, 12001256, 29650643, 48139...</td>\n",
              "    </tr>\n",
              "    <tr>\n",
              "      <th>119638</th>\n",
              "      <td>[6860393, 36410186, 40011180, 13007884, 44777820]</td>\n",
              "      <td>[31448925]</td>\n",
              "      <td>[9793081, 24309553, 18009623, 36039983, 367043...</td>\n",
              "    </tr>\n",
              "    <tr>\n",
              "      <th>119645</th>\n",
              "      <td>[27534747, 23642726, 4489625, 21238394, 211731...</td>\n",
              "      <td>[28909250, 23664795, 12418169, 34702656, 18162...</td>\n",
              "      <td>[20562662, 28979867, 29675359, 10359387, 30387...</td>\n",
              "    </tr>\n",
              "    <tr>\n",
              "      <th>119897</th>\n",
              "      <td>[45138264, 8429958, 19606468, 4632002, 1782010...</td>\n",
              "      <td>[45781496, 15944840, 31965040]</td>\n",
              "      <td>[37857253, 15656770, 38183644, 37090419, 44973...</td>\n",
              "    </tr>\n",
              "    <tr>\n",
              "      <th>120095</th>\n",
              "      <td>[46052821, 26649146, 21527989, 20549441, 19022...</td>\n",
              "      <td>[3385461, 6944154, 18167337, 39192145, 3522586...</td>\n",
              "      <td>[10540381, 36346257, 36367985, 43433165, 35272...</td>\n",
              "    </tr>\n",
              "  </tbody>\n",
              "</table>\n",
              "<p>1939 rows × 3 columns</p>\n",
              "</div>\n",
              "      <button class=\"colab-df-convert\" onclick=\"convertToInteractive('df-b95bbf38-7551-4445-90e3-8ab1c1718aea')\"\n",
              "              title=\"Convert this dataframe to an interactive table.\"\n",
              "              style=\"display:none;\">\n",
              "        \n",
              "  <svg xmlns=\"http://www.w3.org/2000/svg\" height=\"24px\"viewBox=\"0 0 24 24\"\n",
              "       width=\"24px\">\n",
              "    <path d=\"M0 0h24v24H0V0z\" fill=\"none\"/>\n",
              "    <path d=\"M18.56 5.44l.94 2.06.94-2.06 2.06-.94-2.06-.94-.94-2.06-.94 2.06-2.06.94zm-11 1L8.5 8.5l.94-2.06 2.06-.94-2.06-.94L8.5 2.5l-.94 2.06-2.06.94zm10 10l.94 2.06.94-2.06 2.06-.94-2.06-.94-.94-2.06-.94 2.06-2.06.94z\"/><path d=\"M17.41 7.96l-1.37-1.37c-.4-.4-.92-.59-1.43-.59-.52 0-1.04.2-1.43.59L10.3 9.45l-7.72 7.72c-.78.78-.78 2.05 0 2.83L4 21.41c.39.39.9.59 1.41.59.51 0 1.02-.2 1.41-.59l7.78-7.78 2.81-2.81c.8-.78.8-2.07 0-2.86zM5.41 20L4 18.59l7.72-7.72 1.47 1.35L5.41 20z\"/>\n",
              "  </svg>\n",
              "      </button>\n",
              "      \n",
              "  <style>\n",
              "    .colab-df-container {\n",
              "      display:flex;\n",
              "      flex-wrap:wrap;\n",
              "      gap: 12px;\n",
              "    }\n",
              "\n",
              "    .colab-df-convert {\n",
              "      background-color: #E8F0FE;\n",
              "      border: none;\n",
              "      border-radius: 50%;\n",
              "      cursor: pointer;\n",
              "      display: none;\n",
              "      fill: #1967D2;\n",
              "      height: 32px;\n",
              "      padding: 0 0 0 0;\n",
              "      width: 32px;\n",
              "    }\n",
              "\n",
              "    .colab-df-convert:hover {\n",
              "      background-color: #E2EBFA;\n",
              "      box-shadow: 0px 1px 2px rgba(60, 64, 67, 0.3), 0px 1px 3px 1px rgba(60, 64, 67, 0.15);\n",
              "      fill: #174EA6;\n",
              "    }\n",
              "\n",
              "    [theme=dark] .colab-df-convert {\n",
              "      background-color: #3B4455;\n",
              "      fill: #D2E3FC;\n",
              "    }\n",
              "\n",
              "    [theme=dark] .colab-df-convert:hover {\n",
              "      background-color: #434B5C;\n",
              "      box-shadow: 0px 1px 3px 1px rgba(0, 0, 0, 0.15);\n",
              "      filter: drop-shadow(0px 1px 2px rgba(0, 0, 0, 0.3));\n",
              "      fill: #FFFFFF;\n",
              "    }\n",
              "  </style>\n",
              "\n",
              "      <script>\n",
              "        const buttonEl =\n",
              "          document.querySelector('#df-b95bbf38-7551-4445-90e3-8ab1c1718aea button.colab-df-convert');\n",
              "        buttonEl.style.display =\n",
              "          google.colab.kernel.accessAllowed ? 'block' : 'none';\n",
              "\n",
              "        async function convertToInteractive(key) {\n",
              "          const element = document.querySelector('#df-b95bbf38-7551-4445-90e3-8ab1c1718aea');\n",
              "          const dataTable =\n",
              "            await google.colab.kernel.invokeFunction('convertToInteractive',\n",
              "                                                     [key], {});\n",
              "          if (!dataTable) return;\n",
              "\n",
              "          const docLinkHtml = 'Like what you see? Visit the ' +\n",
              "            '<a target=\"_blank\" href=https://colab.research.google.com/notebooks/data_table.ipynb>data table notebook</a>'\n",
              "            + ' to learn more about interactive tables.';\n",
              "          element.innerHTML = '';\n",
              "          dataTable['output_type'] = 'display_data';\n",
              "          await google.colab.output.renderOutput(dataTable, element);\n",
              "          const docLink = document.createElement('div');\n",
              "          docLink.innerHTML = docLinkHtml;\n",
              "          element.appendChild(docLink);\n",
              "        }\n",
              "      </script>\n",
              "    </div>\n",
              "  </div>\n",
              "  "
            ]
          },
          "metadata": {},
          "execution_count": 37
        }
      ],
      "source": [
        "interactions_df"
      ]
    },
    {
      "cell_type": "code",
      "execution_count": 38,
      "id": "8193ffb9",
      "metadata": {
        "id": "8193ffb9"
      },
      "outputs": [],
      "source": [
        "def calc_precision_10(column):\n",
        "    return (\n",
        "        interactions_df\n",
        "        .apply(\n",
        "            lambda row:\n",
        "            len(set(row['true_test']).intersection(\n",
        "                set(row[column]))) / 10.0,\n",
        "            axis=1)).mean()"
      ]
    },
    {
      "cell_type": "code",
      "execution_count": 39,
      "id": "7de36380",
      "metadata": {
        "id": "7de36380"
      },
      "outputs": [],
      "source": [
        "def calc_recall_10(column):\n",
        "    return (\n",
        "        interactions_df\n",
        "        .apply(\n",
        "            lambda row:\n",
        "            len(set(row['true_test']).intersection(\n",
        "                set(row[column]))) / len(row['true_test']) + 0.001,\n",
        "            axis=1)).mean()"
      ]
    },
    {
      "cell_type": "code",
      "execution_count": 40,
      "id": "5cc9dc8c",
      "metadata": {
        "colab": {
          "base_uri": "https://localhost:8080/"
        },
        "id": "5cc9dc8c",
        "outputId": "4186f027-acb1-436e-ffb7-dfd69407961d"
      },
      "outputs": [
        {
          "output_type": "execute_result",
          "data": {
            "text/plain": [
              "0.06828695516921039"
            ]
          },
          "metadata": {},
          "execution_count": 40
        }
      ],
      "source": [
        "calc_recall_10('prediction_svd')"
      ]
    },
    {
      "cell_type": "code",
      "execution_count": 41,
      "id": "a26aa608",
      "metadata": {
        "colab": {
          "base_uri": "https://localhost:8080/"
        },
        "id": "a26aa608",
        "outputId": "0449e4d5-ec90-455d-cc8b-7a461586665f"
      },
      "outputs": [
        {
          "output_type": "execute_result",
          "data": {
            "text/plain": [
              "0.3382155750386797"
            ]
          },
          "metadata": {},
          "execution_count": 41
        }
      ],
      "source": [
        "calc_precision_10('prediction_svd')"
      ]
    },
    {
      "cell_type": "markdown",
      "source": [
        "## Сравнение с dask"
      ],
      "metadata": {
        "id": "R_raAOeitSUm"
      },
      "id": "R_raAOeitSUm"
    },
    {
      "cell_type": "code",
      "source": [
        "count_df = full_df.drop(columns=['rating'])"
      ],
      "metadata": {
        "id": "C3yw9hNItiyR"
      },
      "id": "C3yw9hNItiyR",
      "execution_count": 52,
      "outputs": []
    },
    {
      "cell_type": "code",
      "source": [
        "dataset = Dataset()\n",
        "%time\n",
        "dataset.fit(count_df.user_id, count_df.track_id)"
      ],
      "metadata": {
        "colab": {
          "base_uri": "https://localhost:8080/"
        },
        "id": "HPV9bEsAwLt0",
        "outputId": "8c4d0090-82c0-446c-f5ba-70b78fe4a31f"
      },
      "id": "HPV9bEsAwLt0",
      "execution_count": 53,
      "outputs": [
        {
          "output_type": "stream",
          "name": "stdout",
          "text": [
            "CPU times: user 5 µs, sys: 0 ns, total: 5 µs\n",
            "Wall time: 9.3 µs\n"
          ]
        }
      ]
    },
    {
      "cell_type": "code",
      "source": [
        "(interactions, weights) = dataset.build_interactions(count_df.itertuples(False, None))"
      ],
      "metadata": {
        "id": "OzBdpKSWxK7A"
      },
      "id": "OzBdpKSWxK7A",
      "execution_count": 54,
      "outputs": []
    },
    {
      "cell_type": "code",
      "source": [
        "num_users, num_items = dataset.interactions_shape()\n",
        "print('Num users: {}, Num items {}.'.format(num_users, num_items))"
      ],
      "metadata": {
        "colab": {
          "base_uri": "https://localhost:8080/"
        },
        "id": "WGEiz66Sxa4v",
        "outputId": "f49c9464-41ed-49e7-907c-5bf571430b34"
      },
      "id": "WGEiz66Sxa4v",
      "execution_count": 55,
      "outputs": [
        {
          "output_type": "stream",
          "name": "stdout",
          "text": [
            "Num users: 1939, Num items 3000.\n"
          ]
        }
      ]
    },
    {
      "cell_type": "code",
      "source": [
        "(train_interactions, test_interactions) = random_train_test_split(\n",
        "    interactions,\n",
        "    test_percentage=0.2,\n",
        "    random_state=42,\n",
        ")\n",
        "\n",
        "(train_weights, test_weights) = random_train_test_split(\n",
        "    weights,\n",
        "    test_percentage=0.2,\n",
        "    random_state=42,\n",
        ")"
      ],
      "metadata": {
        "id": "vXRyyWDVxgrZ"
      },
      "id": "vXRyyWDVxgrZ",
      "execution_count": 56,
      "outputs": []
    },
    {
      "cell_type": "code",
      "source": [
        "model = LightFM(\n",
        "    loss='warp',\n",
        "    random_state=42,\n",
        ")\n",
        "model.fit(\n",
        "    train_interactions,\n",
        "    sample_weight=train_weights,\n",
        "    epochs=10,\n",
        "    num_threads=12,\n",
        "    verbose=True,\n",
        ")"
      ],
      "metadata": {
        "colab": {
          "base_uri": "https://localhost:8080/"
        },
        "id": "CXP2h0NSz8Xo",
        "outputId": "348c1f66-b4de-4c31-da18-799067d43b05"
      },
      "id": "CXP2h0NSz8Xo",
      "execution_count": 57,
      "outputs": [
        {
          "output_type": "stream",
          "name": "stderr",
          "text": [
            "Epoch: 100%|██████████| 10/10 [00:07<00:00,  1.35it/s]\n"
          ]
        },
        {
          "output_type": "execute_result",
          "data": {
            "text/plain": [
              "<lightfm.lightfm.LightFM at 0x7f76ed73b310>"
            ]
          },
          "metadata": {},
          "execution_count": 57
        }
      ]
    },
    {
      "cell_type": "code",
      "source": [
        "%%time\n",
        "recall_at_k(\n",
        "    model,\n",
        "    test_interactions,\n",
        "    train_interactions,\n",
        "    k=10,\n",
        "    num_threads=12,\n",
        ").mean()"
      ],
      "metadata": {
        "colab": {
          "base_uri": "https://localhost:8080/"
        },
        "id": "ycTh5gwk0FCK",
        "outputId": "fcced00d-5c88-4afa-97f8-01efa3515407"
      },
      "id": "ycTh5gwk0FCK",
      "execution_count": 58,
      "outputs": [
        {
          "output_type": "stream",
          "name": "stdout",
          "text": [
            "CPU times: user 1.54 s, sys: 2.64 ms, total: 1.55 s\n",
            "Wall time: 1.02 s\n"
          ]
        },
        {
          "output_type": "execute_result",
          "data": {
            "text/plain": [
              "0.057133911134356695"
            ]
          },
          "metadata": {},
          "execution_count": 58
        }
      ]
    },
    {
      "cell_type": "code",
      "source": [
        "%%time\n",
        "precision_at_k(\n",
        "    model,\n",
        "    test_interactions,\n",
        "    train_interactions,\n",
        "    k=10,\n",
        "    num_threads=12,\n",
        ").mean()"
      ],
      "metadata": {
        "colab": {
          "base_uri": "https://localhost:8080/"
        },
        "id": "uY1bI0wd0NxE",
        "outputId": "cf9ef98a-7d50-4b71-9ac2-e3c9bbea5ed4"
      },
      "id": "uY1bI0wd0NxE",
      "execution_count": 59,
      "outputs": [
        {
          "output_type": "stream",
          "name": "stdout",
          "text": [
            "CPU times: user 1.54 s, sys: 4.84 ms, total: 1.54 s\n",
            "Wall time: 867 ms\n"
          ]
        },
        {
          "output_type": "execute_result",
          "data": {
            "text/plain": [
              "0.2954238"
            ]
          },
          "metadata": {},
          "execution_count": 59
        }
      ]
    },
    {
      "cell_type": "code",
      "source": [],
      "metadata": {
        "id": "qI9jF7jJ1lm-"
      },
      "id": "qI9jF7jJ1lm-",
      "execution_count": null,
      "outputs": []
    }
  ],
  "metadata": {
    "kernelspec": {
      "display_name": "Python 3 (ipykernel)",
      "language": "python",
      "name": "python3"
    },
    "language_info": {
      "codemirror_mode": {
        "name": "ipython",
        "version": 3
      },
      "file_extension": ".py",
      "mimetype": "text/x-python",
      "name": "python",
      "nbconvert_exporter": "python",
      "pygments_lexer": "ipython3",
      "version": "3.8.9"
    },
    "colab": {
      "provenance": []
    },
    "widgets": {
      "application/vnd.jupyter.widget-state+json": {
        "786a0c9d839e4d9aaeb34fbe66306a05": {
          "model_module": "@jupyter-widgets/controls",
          "model_name": "HBoxModel",
          "model_module_version": "1.5.0",
          "state": {
            "_dom_classes": [],
            "_model_module": "@jupyter-widgets/controls",
            "_model_module_version": "1.5.0",
            "_model_name": "HBoxModel",
            "_view_count": null,
            "_view_module": "@jupyter-widgets/controls",
            "_view_module_version": "1.5.0",
            "_view_name": "HBoxView",
            "box_style": "",
            "children": [
              "IPY_MODEL_2c4779f28a2c4bfd915b8e9ebb82f3a3",
              "IPY_MODEL_4f0704e3fa2149428bfbd093da7134bb",
              "IPY_MODEL_b1b789222f8e4696973e1b03e93d595a"
            ],
            "layout": "IPY_MODEL_b655264329f14bd2aea5fa1b039ae0c6"
          }
        },
        "2c4779f28a2c4bfd915b8e9ebb82f3a3": {
          "model_module": "@jupyter-widgets/controls",
          "model_name": "HTMLModel",
          "model_module_version": "1.5.0",
          "state": {
            "_dom_classes": [],
            "_model_module": "@jupyter-widgets/controls",
            "_model_module_version": "1.5.0",
            "_model_name": "HTMLModel",
            "_view_count": null,
            "_view_module": "@jupyter-widgets/controls",
            "_view_module_version": "1.5.0",
            "_view_name": "HTMLView",
            "description": "",
            "description_tooltip": null,
            "layout": "IPY_MODEL_02ddf5960ff54981aa958b66a81f65c3",
            "placeholder": "​",
            "style": "IPY_MODEL_4811ed76b5ef4e409330a88774d9e387",
            "value": "100%"
          }
        },
        "4f0704e3fa2149428bfbd093da7134bb": {
          "model_module": "@jupyter-widgets/controls",
          "model_name": "FloatProgressModel",
          "model_module_version": "1.5.0",
          "state": {
            "_dom_classes": [],
            "_model_module": "@jupyter-widgets/controls",
            "_model_module_version": "1.5.0",
            "_model_name": "FloatProgressModel",
            "_view_count": null,
            "_view_module": "@jupyter-widgets/controls",
            "_view_module_version": "1.5.0",
            "_view_name": "ProgressView",
            "bar_style": "success",
            "description": "",
            "description_tooltip": null,
            "layout": "IPY_MODEL_6e4dd740c16a48cdbc4994cca4d9698f",
            "max": 1939,
            "min": 0,
            "orientation": "horizontal",
            "style": "IPY_MODEL_e907180e997c4c0696bfc340add1f97d",
            "value": 1939
          }
        },
        "b1b789222f8e4696973e1b03e93d595a": {
          "model_module": "@jupyter-widgets/controls",
          "model_name": "HTMLModel",
          "model_module_version": "1.5.0",
          "state": {
            "_dom_classes": [],
            "_model_module": "@jupyter-widgets/controls",
            "_model_module_version": "1.5.0",
            "_model_name": "HTMLModel",
            "_view_count": null,
            "_view_module": "@jupyter-widgets/controls",
            "_view_module_version": "1.5.0",
            "_view_name": "HTMLView",
            "description": "",
            "description_tooltip": null,
            "layout": "IPY_MODEL_9fd15cc30fa945f2ab8efd6100a9b3f9",
            "placeholder": "​",
            "style": "IPY_MODEL_0d138363bb604efebd3c3ac2dfe8bd8f",
            "value": " 1939/1939 [00:02&lt;00:00, 897.24it/s]"
          }
        },
        "b655264329f14bd2aea5fa1b039ae0c6": {
          "model_module": "@jupyter-widgets/base",
          "model_name": "LayoutModel",
          "model_module_version": "1.2.0",
          "state": {
            "_model_module": "@jupyter-widgets/base",
            "_model_module_version": "1.2.0",
            "_model_name": "LayoutModel",
            "_view_count": null,
            "_view_module": "@jupyter-widgets/base",
            "_view_module_version": "1.2.0",
            "_view_name": "LayoutView",
            "align_content": null,
            "align_items": null,
            "align_self": null,
            "border": null,
            "bottom": null,
            "display": null,
            "flex": null,
            "flex_flow": null,
            "grid_area": null,
            "grid_auto_columns": null,
            "grid_auto_flow": null,
            "grid_auto_rows": null,
            "grid_column": null,
            "grid_gap": null,
            "grid_row": null,
            "grid_template_areas": null,
            "grid_template_columns": null,
            "grid_template_rows": null,
            "height": null,
            "justify_content": null,
            "justify_items": null,
            "left": null,
            "margin": null,
            "max_height": null,
            "max_width": null,
            "min_height": null,
            "min_width": null,
            "object_fit": null,
            "object_position": null,
            "order": null,
            "overflow": null,
            "overflow_x": null,
            "overflow_y": null,
            "padding": null,
            "right": null,
            "top": null,
            "visibility": null,
            "width": null
          }
        },
        "02ddf5960ff54981aa958b66a81f65c3": {
          "model_module": "@jupyter-widgets/base",
          "model_name": "LayoutModel",
          "model_module_version": "1.2.0",
          "state": {
            "_model_module": "@jupyter-widgets/base",
            "_model_module_version": "1.2.0",
            "_model_name": "LayoutModel",
            "_view_count": null,
            "_view_module": "@jupyter-widgets/base",
            "_view_module_version": "1.2.0",
            "_view_name": "LayoutView",
            "align_content": null,
            "align_items": null,
            "align_self": null,
            "border": null,
            "bottom": null,
            "display": null,
            "flex": null,
            "flex_flow": null,
            "grid_area": null,
            "grid_auto_columns": null,
            "grid_auto_flow": null,
            "grid_auto_rows": null,
            "grid_column": null,
            "grid_gap": null,
            "grid_row": null,
            "grid_template_areas": null,
            "grid_template_columns": null,
            "grid_template_rows": null,
            "height": null,
            "justify_content": null,
            "justify_items": null,
            "left": null,
            "margin": null,
            "max_height": null,
            "max_width": null,
            "min_height": null,
            "min_width": null,
            "object_fit": null,
            "object_position": null,
            "order": null,
            "overflow": null,
            "overflow_x": null,
            "overflow_y": null,
            "padding": null,
            "right": null,
            "top": null,
            "visibility": null,
            "width": null
          }
        },
        "4811ed76b5ef4e409330a88774d9e387": {
          "model_module": "@jupyter-widgets/controls",
          "model_name": "DescriptionStyleModel",
          "model_module_version": "1.5.0",
          "state": {
            "_model_module": "@jupyter-widgets/controls",
            "_model_module_version": "1.5.0",
            "_model_name": "DescriptionStyleModel",
            "_view_count": null,
            "_view_module": "@jupyter-widgets/base",
            "_view_module_version": "1.2.0",
            "_view_name": "StyleView",
            "description_width": ""
          }
        },
        "6e4dd740c16a48cdbc4994cca4d9698f": {
          "model_module": "@jupyter-widgets/base",
          "model_name": "LayoutModel",
          "model_module_version": "1.2.0",
          "state": {
            "_model_module": "@jupyter-widgets/base",
            "_model_module_version": "1.2.0",
            "_model_name": "LayoutModel",
            "_view_count": null,
            "_view_module": "@jupyter-widgets/base",
            "_view_module_version": "1.2.0",
            "_view_name": "LayoutView",
            "align_content": null,
            "align_items": null,
            "align_self": null,
            "border": null,
            "bottom": null,
            "display": null,
            "flex": null,
            "flex_flow": null,
            "grid_area": null,
            "grid_auto_columns": null,
            "grid_auto_flow": null,
            "grid_auto_rows": null,
            "grid_column": null,
            "grid_gap": null,
            "grid_row": null,
            "grid_template_areas": null,
            "grid_template_columns": null,
            "grid_template_rows": null,
            "height": null,
            "justify_content": null,
            "justify_items": null,
            "left": null,
            "margin": null,
            "max_height": null,
            "max_width": null,
            "min_height": null,
            "min_width": null,
            "object_fit": null,
            "object_position": null,
            "order": null,
            "overflow": null,
            "overflow_x": null,
            "overflow_y": null,
            "padding": null,
            "right": null,
            "top": null,
            "visibility": null,
            "width": null
          }
        },
        "e907180e997c4c0696bfc340add1f97d": {
          "model_module": "@jupyter-widgets/controls",
          "model_name": "ProgressStyleModel",
          "model_module_version": "1.5.0",
          "state": {
            "_model_module": "@jupyter-widgets/controls",
            "_model_module_version": "1.5.0",
            "_model_name": "ProgressStyleModel",
            "_view_count": null,
            "_view_module": "@jupyter-widgets/base",
            "_view_module_version": "1.2.0",
            "_view_name": "StyleView",
            "bar_color": null,
            "description_width": ""
          }
        },
        "9fd15cc30fa945f2ab8efd6100a9b3f9": {
          "model_module": "@jupyter-widgets/base",
          "model_name": "LayoutModel",
          "model_module_version": "1.2.0",
          "state": {
            "_model_module": "@jupyter-widgets/base",
            "_model_module_version": "1.2.0",
            "_model_name": "LayoutModel",
            "_view_count": null,
            "_view_module": "@jupyter-widgets/base",
            "_view_module_version": "1.2.0",
            "_view_name": "LayoutView",
            "align_content": null,
            "align_items": null,
            "align_self": null,
            "border": null,
            "bottom": null,
            "display": null,
            "flex": null,
            "flex_flow": null,
            "grid_area": null,
            "grid_auto_columns": null,
            "grid_auto_flow": null,
            "grid_auto_rows": null,
            "grid_column": null,
            "grid_gap": null,
            "grid_row": null,
            "grid_template_areas": null,
            "grid_template_columns": null,
            "grid_template_rows": null,
            "height": null,
            "justify_content": null,
            "justify_items": null,
            "left": null,
            "margin": null,
            "max_height": null,
            "max_width": null,
            "min_height": null,
            "min_width": null,
            "object_fit": null,
            "object_position": null,
            "order": null,
            "overflow": null,
            "overflow_x": null,
            "overflow_y": null,
            "padding": null,
            "right": null,
            "top": null,
            "visibility": null,
            "width": null
          }
        },
        "0d138363bb604efebd3c3ac2dfe8bd8f": {
          "model_module": "@jupyter-widgets/controls",
          "model_name": "DescriptionStyleModel",
          "model_module_version": "1.5.0",
          "state": {
            "_model_module": "@jupyter-widgets/controls",
            "_model_module_version": "1.5.0",
            "_model_name": "DescriptionStyleModel",
            "_view_count": null,
            "_view_module": "@jupyter-widgets/base",
            "_view_module_version": "1.2.0",
            "_view_name": "StyleView",
            "description_width": ""
          }
        }
      }
    }
  },
  "nbformat": 4,
  "nbformat_minor": 5
}